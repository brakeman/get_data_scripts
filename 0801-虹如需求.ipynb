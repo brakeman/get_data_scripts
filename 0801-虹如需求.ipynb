{
 "cells": [
  {
   "cell_type": "code",
   "execution_count": 1,
   "metadata": {},
   "outputs": [],
   "source": [
    "polar_host = \"mars-xianmai-pub.mysql.polardb.rds.aliyuncs.com\"\n",
    "polar_port = 3306\n",
    "polar_user = 'risk_ro'\n",
    "polar_pswd = '1LzQNi8sMv7l'\n",
    "polar_db = 'mars'\n"
   ]
  },
  {
   "cell_type": "code",
   "execution_count": 2,
   "metadata": {},
   "outputs": [],
   "source": [
    "import pandas as pd\n",
    "\n",
    "def df_from_sql(sql):\n",
    "    import pymysql\n",
    "    import pandas as pd\n",
    "    connect = pymysql.Connect(\n",
    "        host=polar_host,\n",
    "        port=polar_port,\n",
    "        user=polar_user,\n",
    "        passwd=polar_pswd,\n",
    "        db=polar_db\n",
    "    )\n",
    "    cursor = connect.cursor()\n",
    "    df = pd.read_sql(sql, con=connect)\n",
    "    connect.close()    \n",
    "    return df"
   ]
  },
  {
   "cell_type": "code",
   "execution_count": 4,
   "metadata": {},
   "outputs": [
    {
     "name": "stdout",
     "output_type": "stream",
     "text": [
      "7月总交易额5213445.58\n",
      "6月总交易额4153047.32\n",
      "7-6月 :1060398.2600000002\n"
     ]
    }
   ],
   "source": [
    "# 虹如要的数据；\n",
    "# 1. reblue全量 7月 - 全量 6月；\n",
    "\n",
    "sql_loan = '''\n",
    "select * \n",
    "from yk_reblue_sale\n",
    "'''\n",
    "\n",
    "blue = df_from_sql(sql_loan)\n",
    "\n",
    "june_blue = blue[blue.sale_time.between('2020-06-01 00:00', '2020-07-01 00:00')]\n",
    "july_blue = blue[blue.sale_time.between('2020-07-01 00:00', '2020-08-01 00:00')]\n",
    "\n",
    "print('7月总交易额{}'.format(july_blue.paid_amt.sum()))\n",
    "print('6月总交易额{}'.format(june_blue.paid_amt.sum()))\n",
    "print('7-6月 :{}'.format(july_blue.paid_amt.sum() - june_blue.paid_amt.sum()))\n"
   ]
  },
  {
   "cell_type": "code",
   "execution_count": 8,
   "metadata": {},
   "outputs": [
    {
     "name": "stdout",
     "output_type": "stream",
     "text": [
      "6月大票数：3413\n",
      "6月单均：1446.8952475827718\n",
      "7月大票数:4076\n",
      "7月单均:1477.1944553483809\n"
     ]
    }
   ],
   "source": [
    "# 虹如要的数据；\n",
    "# 2. reblue全量 7月 客单价 总价/人数，如果非会员用dp_id代表人数；\n",
    "sql_loan = '''\n",
    "select * \n",
    "from yk_reblue_sale s\n",
    "left join yk_reblue_user u on u.user_id = s.user_id\n",
    "'''\n",
    "\n",
    "blue = df_from_sql(sql_loan)\n",
    "june_blue = blue[blue.sale_time.between('2020-06-01 00:00', '2020-07-01 00:00')]\n",
    "july_blue = blue[blue.sale_time.between('2020-07-01 00:00', '2020-08-01 00:00')]\n",
    "\n",
    "july_blue = july_blue[['user_id', 'paid_amt', 'dp_id', 'xp_id']]\n",
    "june_blue = june_blue[['user_id', 'paid_amt', 'dp_id', 'xp_id']]\n",
    "\n",
    "june_blue = june_blue[june_blue.paid_amt>0].iloc[:,1:]\n",
    "print('6月大票数：{}'.format(june_blue.dp_id.nunique()))\n",
    "print('6月单均：{}'.format(june_blue.paid_amt.sum()/june_blue.dp_id.nunique()))\n",
    "\n",
    "july_blue = july_blue[july_blue.paid_amt>0].iloc[:,1:]\n",
    "print('7月大票数:{}'.format(july_blue.dp_id.nunique()))\n",
    "print('7月单均:{}'.format(july_blue.paid_amt.sum()/july_blue.dp_id.nunique()))\n"
   ]
  },
  {
   "cell_type": "code",
   "execution_count": 9,
   "metadata": {},
   "outputs": [
    {
     "name": "stdout",
     "output_type": "stream",
     "text": [
      "reblue全量 5.1~6.16 交易额/天数:140410.93914893616\n"
     ]
    }
   ],
   "source": [
    "# 虹如要的数据；\n",
    "# 3. reblue全量 5.1~6.16 交易额/天数;\n",
    "sql_loan = '''\n",
    "select * \n",
    "from yk_reblue_sale s\n",
    "'''\n",
    "blue = df_from_sql(sql_loan)\n",
    "tmp_blue = blue[blue.sale_time.between('2020-05-01 00:00:00', '2020-06-17 00:00:00')]\n",
    "print('reblue全量 5.1~6.16 交易额/天数:{}'.format(tmp_blue.paid_amt.sum()/47))"
   ]
  },
  {
   "cell_type": "code",
   "execution_count": 10,
   "metadata": {},
   "outputs": [
    {
     "data": {
      "text/html": [
       "<div>\n",
       "<style scoped>\n",
       "    .dataframe tbody tr th:only-of-type {\n",
       "        vertical-align: middle;\n",
       "    }\n",
       "\n",
       "    .dataframe tbody tr th {\n",
       "        vertical-align: top;\n",
       "    }\n",
       "\n",
       "    .dataframe thead th {\n",
       "        text-align: right;\n",
       "    }\n",
       "</style>\n",
       "<table border=\"1\" class=\"dataframe\">\n",
       "  <thead>\n",
       "    <tr style=\"text-align: right;\">\n",
       "      <th></th>\n",
       "      <th>hapay_pay</th>\n",
       "      <th>paid_amt</th>\n",
       "    </tr>\n",
       "    <tr>\n",
       "      <th>week</th>\n",
       "      <th></th>\n",
       "      <th></th>\n",
       "    </tr>\n",
       "  </thead>\n",
       "  <tbody>\n",
       "    <tr>\n",
       "      <th>上线第1周</th>\n",
       "      <td>28241.157143</td>\n",
       "      <td>155995.300000</td>\n",
       "    </tr>\n",
       "    <tr>\n",
       "      <th>上线第2周</th>\n",
       "      <td>87218.892857</td>\n",
       "      <td>150242.352857</td>\n",
       "    </tr>\n",
       "    <tr>\n",
       "      <th>上线第3周</th>\n",
       "      <td>71871.778571</td>\n",
       "      <td>158158.557143</td>\n",
       "    </tr>\n",
       "    <tr>\n",
       "      <th>上线第4周</th>\n",
       "      <td>60075.800000</td>\n",
       "      <td>158836.867143</td>\n",
       "    </tr>\n",
       "    <tr>\n",
       "      <th>上线第5周</th>\n",
       "      <td>85485.885714</td>\n",
       "      <td>196675.012857</td>\n",
       "    </tr>\n",
       "    <tr>\n",
       "      <th>上线第6周</th>\n",
       "      <td>50458.007143</td>\n",
       "      <td>107946.944286</td>\n",
       "    </tr>\n",
       "  </tbody>\n",
       "</table>\n",
       "</div>"
      ],
      "text/plain": [
       "          hapay_pay       paid_amt\n",
       "week                              \n",
       "上线第1周  28241.157143  155995.300000\n",
       "上线第2周  87218.892857  150242.352857\n",
       "上线第3周  71871.778571  158158.557143\n",
       "上线第4周  60075.800000  158836.867143\n",
       "上线第5周  85485.885714  196675.012857\n",
       "上线第6周  50458.007143  107946.944286"
      ]
     },
     "execution_count": 10,
     "metadata": {},
     "output_type": "execute_result"
    }
   ],
   "source": [
    "# 虹如要的数据；\n",
    "# 4. reblue全量 周数据[首周22-28]；每周交易额\n",
    "# 5. reblue西瓜 周数据[首周22-28]；每周交易额\n",
    "\n",
    "sql_loan = '''\n",
    "select * \n",
    "from yk_reblue_sale s\n",
    "'''\n",
    "blue = df_from_sql(sql_loan)\n",
    "tmp_blue = blue[blue.sale_time.between('2020-06-22 00:00:00', '2020-08-01 00:00:00')]\n",
    "tmp_blue = tmp_blue[['paid_amt', 'hapay_pay', 'dp_id', 'user_id', 'sale_time']]\n",
    "tmp_blue['date'] = tmp_blue['sale_time'].apply(lambda x:str(x)[0:10])\n",
    "\n",
    "def weekget(string):\n",
    "    if string in ['2020-06-22','2020-06-23','2020-06-24','2020-06-25','2020-06-26','2020-06-27','2020-06-28']:\n",
    "        return '上线第1周'\n",
    "    elif string in ['2020-06-29','2020-06-30','2020-07-01','2020-07-02','2020-07-03','2020-07-04','2020-07-05']:\n",
    "        return '上线第2周'\n",
    "    elif string in ['2020-07-06','2020-07-07','2020-07-08','2020-07-09','2020-07-10','2020-07-11','2020-07-12']:\n",
    "        return '上线第3周'\n",
    "    elif string in ['2020-07-13','2020-07-14','2020-07-15','2020-07-16','2020-07-17','2020-07-18','2020-07-19']:\n",
    "        return '上线第4周'    \n",
    "    elif string in ['2020-07-20','2020-07-21','2020-07-22','2020-07-23','2020-07-24','2020-07-25','2020-07-26']:\n",
    "        return '上线第5周'    \n",
    "    elif string in ['2020-07-27','2020-07-28','2020-07-29','2020-07-30','2020-07-31']:\n",
    "        return '上线第6周'    \n",
    "    else:\n",
    "        print(string)\n",
    "        raise Exception('not allowed')\n",
    "\n",
    "tmp_blue['week'] = tmp_blue.date.apply(lambda x: weekget(x))\n",
    "tmp_blue.pivot_table(index='week', values=['paid_amt', 'hapay_pay'], aggfunc=sum)/7"
   ]
  },
  {
   "cell_type": "code",
   "execution_count": 11,
   "metadata": {},
   "outputs": [
    {
     "name": "stderr",
     "output_type": "stream",
     "text": [
      "/Users/cashbus/py3env/lib/python3.7/site-packages/ipykernel_launcher.py:25: SettingWithCopyWarning: \n",
      "A value is trying to be set on a copy of a slice from a DataFrame.\n",
      "Try using .loc[row_indexer,col_indexer] = value instead\n",
      "\n",
      "See the caveats in the documentation: https://pandas.pydata.org/pandas-docs/stable/user_guide/indexing.html#returning-a-view-versus-a-copy\n"
     ]
    },
    {
     "data": {
      "text/plain": [
       "False    271\n",
       "True      15\n",
       "Name: 是老用户, dtype: int64"
      ]
     },
     "execution_count": 11,
     "metadata": {},
     "output_type": "execute_result"
    }
   ],
   "source": [
    "# 虹如要的数据；\n",
    "# 6. reblue西瓜 新老顾客\n",
    "# 西瓜新老用户定义：7月1号之后来的，之前没来过都是新用户\n",
    "sql_loan = '''\n",
    "select * \n",
    "from mars_financial_settle_details f\n",
    "left join mars_hapay_store s on s.refid = f.storerefid\n",
    "left join mars_loan l on l.refid = f.loanrefid\n",
    "left join mars_user u on u.refid = l.userrefid\n",
    "where f.type='交易'\n",
    "'''\n",
    "\n",
    "blue = df_from_sql(sql_loan)\n",
    "\n",
    "blue = blue[blue.financeRefId.isin(['WFY2_Re-BLUE_default'])]\n",
    "blue['flag'] = 1\n",
    "user = blue.pivot_table(index='userRefId', \n",
    "                        values=['goodsOrderAmount', 'flag'],\n",
    "                        aggfunc={'goodsOrderAmount':sum,\n",
    "                                 'flag':sum})\n",
    "\n",
    "\n",
    "old_users = blue[blue.fundTime<'2020-07-01 00:00'].userRefId\n",
    "july_blue = blue[blue.fundTime>'2020-07-01 00:00']\n",
    "july_blue['是老用户'] = july_blue.userRefId.isin(old_users)\n",
    "# july_blue.index='userRefId', values='是老用户', aggfunc='')\n",
    "h = july_blue[['userRefId', '是老用户']].drop_duplicates().set_index('userRefId')\n",
    "h['是老用户'].value_counts()\n"
   ]
  },
  {
   "cell_type": "code",
   "execution_count": 13,
   "metadata": {},
   "outputs": [
    {
     "name": "stdout",
     "output_type": "stream",
     "text": [
      "江苏南京景枫\n",
      "北京国瑞城\n",
      "四川成都龙湖西宸天街\n",
      "重庆龙湖时代天街\n",
      "南京龙湾天街\n",
      "上海宝杨宝龙\n",
      "杭州滨江宝龙城店\n",
      "江苏苏州昆山九方城\n",
      "南京中海环宇城\n",
      "兰州七里河店\n",
      "杭州乐堤港\n",
      "江苏苏州工业园\n",
      "深圳福田卓悦汇\n",
      "四川成都珠江广场\n",
      "河南郑州永威木色\n",
      "杭州滨江龙湖天街\n",
      "贵阳金阳南路店\n",
      "河南郑州公园茂店\n",
      "南京华采天地\n",
      "北京九龙山合生汇\n",
      "四川成都银泰\n",
      "杭州紫荆龙湖\n",
      "北京朝阳金地中心店\n",
      "济南恒隆\n",
      "北京大兴荟聚中心店\n",
      "江苏南京印象汇\n",
      "西安大融城\n",
      "廊坊新朝阳\n",
      "常州环球港\n",
      "西安曲江新区金地\n",
      "云南南亚风情城\n",
      "杭州西溪印象城\n",
      "呼和浩特振华店\n",
      "石家庄万达\n",
      "河北保定竞秀区保定购物商场\n",
      "北京大兴大族广场\n",
      "浙江宁波万象汇\n",
      "杭州简易之间\n"
     ]
    }
   ],
   "source": [
    "# 虹如要的数据；\n",
    "# 7. reblue 门店 月份 西瓜 ---- 总量 单数 金额;\n",
    "sql_loan = '''\n",
    "select * \n",
    "from yk_reblue_sale s\n",
    "left join yk_reblue_user u on u.user_id = s.user_id\n",
    "left join yk_reblue_saler sr on sr.saler_id = s.saler_id\n",
    "'''\n",
    "blue = df_from_sql(sql_loan)\n",
    "tmp_blue = blue[blue.sale_time.between('2020-06-01 00:00:00', '2020-08-01 00:00:00')]\n",
    "tmp_blue = tmp_blue[['paid_amt', 'hapay_pay', 'dp_id', 'user_id', 'sale_time', 'store_name']]\n",
    "tmp_blue['month'] = tmp_blue['sale_time'].apply(lambda x:str(x)[5:7])\n",
    "\n",
    "\n",
    "def get_df_smy(df):\n",
    "    '''\n",
    "    # 过滤掉负交易;\n",
    "    # 由于xg最低单位是 单号，而yk最低单位是goods,所以不匹配要先矫正【矫正方法有待商榷】;\n",
    "    1. 销售金额\n",
    "    2. 总大票数目\n",
    "    3. 西瓜金额\n",
    "    4. 西瓜总大票数目\n",
    "    '''\n",
    "    # 过滤掉负交易;\n",
    "    df = df[df['paid_amt']>=0]\n",
    "    xg_df = df[df['hapay_pay']>0].copy()\n",
    "    # 由于xg最低单位是 单号，而yk最低单位是goods,所以不匹配要先矫正;\n",
    "#     xg_df.loc[:, '西瓜支付'] = xg_df.loc[:, '销售实收金额']\n",
    "    amt, num = df['paid_amt'].sum(), df['dp_id'].nunique()\n",
    "    xg_df2 = xg_df.pivot_table(index='dp_id', values=['hapay_pay'], aggfunc={'hapay_pay':max})\n",
    "    if not xg_df2.empty:\n",
    "        xg_amt, xg_num = xg_df2['hapay_pay'].sum(), xg_df2.shape[0]\n",
    "    else:\n",
    "        xg_amt, xg_num = 0, 0\n",
    "    dic = {}\n",
    "    dic['销售金额'] = amt\n",
    "    dic['销售单数'] = num \n",
    "    dic['西瓜金额'] = xg_amt\n",
    "    dic['西瓜单数'] = xg_num\n",
    "    return dic\n",
    "\n",
    "# show1 = tmp_blue.pivot_table(index=['month', 'store_name'], \n",
    "#                              values=['paid_amt','dp_id'], \n",
    "#                              aggfunc={'paid_amt':sum, 'dp_id':'nunique'})\n",
    "\n",
    "# xg = tmp_blue[tmp_blue.hapay_pay>0]\n",
    "# xg = xg[['dp_id', 'hapay_pay', 'store_name', 'month']]\n",
    "# xg = xg.drop_duplicates()\n",
    "# show2 = xg.pivot_table(index=['month', 'store_name'],\n",
    "#                        values=['hapay_pay','dp_id'], \n",
    "#                        aggfunc={'hapay_pay':sum, 'dp_id':'nunique'})\n",
    "\n",
    "DIC = {}\n",
    "res = []\n",
    "for s in tmp_blue['store_name'].unique():\n",
    "    print(s)\n",
    "    tmp_df = tmp_blue[tmp_blue['store_name']==s]\n",
    "    D = {}\n",
    "    for m in ['06', '07']:\n",
    "        dic = {}\n",
    "        tmp = tmp_df[tmp_df['month']==m]\n",
    "        dic['month'+ m] =  get_df_smy(tmp)\n",
    "        D.update(dic)\n",
    "    sub = pd.DataFrame(D).T\n",
    "    DIC[s]= sub\n",
    "    res.append(sub)\n",
    "\n",
    "def sum_brackets(a):\n",
    "    return sum(a, [])\n",
    "\n",
    "class1 = sum_brackets([[i]*2 for i in list(tmp_blue['store_name'].unique())])\n",
    "class2 =[\"month06\",\"month07\"]*len(tmp_blue['store_name'].unique())\n",
    "m_index2=pd.MultiIndex.from_arrays([class1,class2],names=[\"门店\",\"月份\"])\n",
    "\n",
    "df2=pd.DataFrame(pd.concat(res).values, index=m_index2, columns=['销售金额','销售单数','西瓜金额','西瓜单数'])\n"
   ]
  },
  {
   "cell_type": "code",
   "execution_count": 14,
   "metadata": {},
   "outputs": [],
   "source": [
    "df2.to_csv('/Users/cashbus/Desktop/f2.csv')"
   ]
  },
  {
   "cell_type": "code",
   "execution_count": null,
   "metadata": {},
   "outputs": [],
   "source": []
  }
 ],
 "metadata": {
  "kernelspec": {
   "display_name": "Python 3.7.6 64-bit",
   "language": "python",
   "name": "python37664bit31218c15791f476da74d0ae0366fb2f7"
  },
  "language_info": {
   "codemirror_mode": {
    "name": "ipython",
    "version": 3
   },
   "file_extension": ".py",
   "mimetype": "text/x-python",
   "name": "python",
   "nbconvert_exporter": "python",
   "pygments_lexer": "ipython3",
   "version": "3.7.6"
  }
 },
 "nbformat": 4,
 "nbformat_minor": 4
}
