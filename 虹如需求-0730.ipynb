{
 "cells": [
  {
   "cell_type": "code",
   "execution_count": 1,
   "metadata": {},
   "outputs": [],
   "source": [
    "import pandas as pd\n",
    "\n",
    "def df_from_sql(sql):\n",
    "    import pymysql\n",
    "    import pandas as pd\n",
    "    connect = pymysql.Connect(\n",
    "        host=polar_host,\n",
    "        port=polar_port,\n",
    "        user=polar_user,\n",
    "        passwd=polar_pswd,\n",
    "        db=polar_db\n",
    "    )\n",
    "    cursor = connect.cursor()\n",
    "    df = pd.read_sql(sql, con=connect)\n",
    "    connect.close()    \n",
    "    return df"
   ]
  },
  {
   "cell_type": "code",
   "execution_count": null,
   "metadata": {},
   "outputs": [],
   "source": [
    "# 只要7月没有店铺数据，d就扔掉店铺全部交易"
   ]
  },
  {
   "cell_type": "code",
   "execution_count": 2,
   "metadata": {},
   "outputs": [
    {
     "name": "stdout",
     "output_type": "stream",
     "text": [
      "7月总交易额5036275.37\n",
      "6月总交易额4153047.32\n",
      "7-6月 :883228.0500000003\n"
     ]
    }
   ],
   "source": [
    "# 虹如要的数据；\n",
    "# 1. reblue全量 7月 - 全量 6月；\n",
    "\n",
    "sql_loan = '''\n",
    "select * \n",
    "from yk_reblue_sale\n",
    "'''\n",
    "\n",
    "blue = df_from_sql(sql_loan)\n",
    "\n",
    "june_blue = blue[blue.sale_time.between('2020-06-01 00:00', '2020-07-01 00:00')]\n",
    "july_blue = blue[blue.sale_time.between('2020-07-01 00:00', '2020-08-01 00:00')]\n",
    "\n",
    "print('7月总交易额{}'.format(july_blue.paid_amt.sum()))\n",
    "print('6月总交易额{}'.format(june_blue.paid_amt.sum()))\n",
    "print('7-6月 :{}'.format(july_blue.paid_amt.sum() - june_blue.paid_amt.sum()))\n"
   ]
  },
  {
   "cell_type": "code",
   "execution_count": 4,
   "metadata": {},
   "outputs": [
    {
     "name": "stdout",
     "output_type": "stream",
     "text": [
      "6月大票数：3413\n",
      "6月单均：1446.8952475827718\n",
      "7月大票数:3934\n",
      "7月单均:1474.9359405185564\n"
     ]
    }
   ],
   "source": [
    "# 虹如要的数据；\n",
    "# 2. reblue全量 7月 客单价 总价/人数，如果非会员用dp_id代表人数；\n",
    "sql_loan = '''\n",
    "select * \n",
    "from yk_reblue_sale s\n",
    "left join yk_reblue_user u on u.user_id = s.user_id\n",
    "'''\n",
    "\n",
    "blue = df_from_sql(sql_loan)\n",
    "june_blue = blue[blue.sale_time.between('2020-06-01 00:00', '2020-07-01 00:00')]\n",
    "july_blue = blue[blue.sale_time.between('2020-07-01 00:00', '2020-08-01 00:00')]\n",
    "\n",
    "july_blue = july_blue[['user_id', 'paid_amt', 'dp_id', 'xp_id']]\n",
    "june_blue = june_blue[['user_id', 'paid_amt', 'dp_id', 'xp_id']]\n",
    "\n",
    "june_blue = june_blue[june_blue.paid_amt>0].iloc[:,1:]\n",
    "print('6月大票数：{}'.format(june_blue.dp_id.nunique()))\n",
    "print('6月单均：{}'.format(june_blue.paid_amt.sum()/june_blue.dp_id.nunique()))\n",
    "\n",
    "july_blue = july_blue[july_blue.paid_amt>0].iloc[:,1:]\n",
    "print('7月大票数:{}'.format(july_blue.dp_id.nunique()))\n",
    "print('7月单均:{}'.format(july_blue.paid_amt.sum()/july_blue.dp_id.nunique()))\n"
   ]
  },
  {
   "cell_type": "code",
   "execution_count": 87,
   "metadata": {},
   "outputs": [
    {
     "name": "stdout",
     "output_type": "stream",
     "text": [
      "reblue全量 5.1~6.16 交易额/天数:140410.93914893616\n"
     ]
    }
   ],
   "source": [
    "# 虹如要的数据；\n",
    "# 3. reblue全量 5.1~6.16 交易额/天数\n",
    "sql_loan = '''\n",
    "select * \n",
    "from yk_reblue_sale s\n",
    "'''\n",
    "blue = df_from_sql(sql_loan)\n",
    "tmp_blue = blue[blue.sale_time.between('2020-05-01 00:00:00', '2020-06-17 00:00:00')]\n",
    "print('reblue全量 5.1~6.16 交易额/天数:{}'.format(tmp_blue.paid_amt.sum()/47))"
   ]
  },
  {
   "cell_type": "code",
   "execution_count": 88,
   "metadata": {},
   "outputs": [
    {
     "data": {
      "text/html": [
       "<div>\n",
       "<style scoped>\n",
       "    .dataframe tbody tr th:only-of-type {\n",
       "        vertical-align: middle;\n",
       "    }\n",
       "\n",
       "    .dataframe tbody tr th {\n",
       "        vertical-align: top;\n",
       "    }\n",
       "\n",
       "    .dataframe thead th {\n",
       "        text-align: right;\n",
       "    }\n",
       "</style>\n",
       "<table border=\"1\" class=\"dataframe\">\n",
       "  <thead>\n",
       "    <tr style=\"text-align: right;\">\n",
       "      <th></th>\n",
       "      <th>hapay_pay</th>\n",
       "      <th>paid_amt</th>\n",
       "    </tr>\n",
       "    <tr>\n",
       "      <th>week</th>\n",
       "      <th></th>\n",
       "      <th></th>\n",
       "    </tr>\n",
       "  </thead>\n",
       "  <tbody>\n",
       "    <tr>\n",
       "      <th>上线第1周</th>\n",
       "      <td>28241.157143</td>\n",
       "      <td>155995.300000</td>\n",
       "    </tr>\n",
       "    <tr>\n",
       "      <th>上线第2周</th>\n",
       "      <td>87218.892857</td>\n",
       "      <td>150242.352857</td>\n",
       "    </tr>\n",
       "    <tr>\n",
       "      <th>上线第3周</th>\n",
       "      <td>71871.778571</td>\n",
       "      <td>158158.557143</td>\n",
       "    </tr>\n",
       "    <tr>\n",
       "      <th>上线第4周</th>\n",
       "      <td>60075.800000</td>\n",
       "      <td>158836.867143</td>\n",
       "    </tr>\n",
       "    <tr>\n",
       "      <th>上线第5周</th>\n",
       "      <td>85485.885714</td>\n",
       "      <td>196675.012857</td>\n",
       "    </tr>\n",
       "    <tr>\n",
       "      <th>上线第6周</th>\n",
       "      <td>30851.292857</td>\n",
       "      <td>82636.914286</td>\n",
       "    </tr>\n",
       "  </tbody>\n",
       "</table>\n",
       "</div>"
      ],
      "text/plain": [
       "          hapay_pay       paid_amt\n",
       "week                              \n",
       "上线第1周  28241.157143  155995.300000\n",
       "上线第2周  87218.892857  150242.352857\n",
       "上线第3周  71871.778571  158158.557143\n",
       "上线第4周  60075.800000  158836.867143\n",
       "上线第5周  85485.885714  196675.012857\n",
       "上线第6周  30851.292857   82636.914286"
      ]
     },
     "execution_count": 88,
     "metadata": {},
     "output_type": "execute_result"
    }
   ],
   "source": [
    "# 虹如要的数据；\n",
    "# 4. reblue全量 周数据[首周22-28]；每周交易额\n",
    "# 5. reblue西瓜 周数据[首周22-28]；每周交易额\n",
    "\n",
    "sql_loan = '''\n",
    "select * \n",
    "from yk_reblue_sale s\n",
    "'''\n",
    "blue = df_from_sql(sql_loan)\n",
    "tmp_blue = blue[blue.sale_time.between('2020-06-22 00:00:00', '2020-08-01 00:00:00')]\n",
    "tmp_blue = tmp_blue[['paid_amt', 'hapay_pay', 'dp_id', 'user_id', 'sale_time']]\n",
    "tmp_blue['date'] = tmp_blue['sale_time'].apply(lambda x:str(x)[0:10])\n",
    "\n",
    "def weekget(string):\n",
    "    if string in ['2020-06-22','2020-06-23','2020-06-24','2020-06-25','2020-06-26','2020-06-27','2020-06-28']:\n",
    "        return '上线第1周'\n",
    "    elif string in ['2020-06-29','2020-06-30','2020-07-01','2020-07-02','2020-07-03','2020-07-04','2020-07-05']:\n",
    "        return '上线第2周'\n",
    "    elif string in ['2020-07-06','2020-07-07','2020-07-08','2020-07-09','2020-07-10','2020-07-11','2020-07-12']:\n",
    "        return '上线第3周'\n",
    "    elif string in ['2020-07-13','2020-07-14','2020-07-15','2020-07-16','2020-07-17','2020-07-18','2020-07-19']:\n",
    "        return '上线第4周'    \n",
    "    elif string in ['2020-07-20','2020-07-21','2020-07-22','2020-07-23','2020-07-24','2020-07-25','2020-07-26']:\n",
    "        return '上线第5周'    \n",
    "    elif string in ['2020-07-27','2020-07-28','2020-07-29','2020-07-30','2020-07-31']:\n",
    "        return '上线第6周'    \n",
    "    else:\n",
    "        print(string)\n",
    "        raise Exception('not allowed')\n",
    "\n",
    "tmp_blue['week'] = tmp_blue.date.apply(lambda x: weekget(x))\n",
    "tmp_blue.pivot_table(index='week', values=['paid_amt', 'hapay_pay'], aggfunc=sum)/7"
   ]
  },
  {
   "cell_type": "code",
   "execution_count": 89,
   "metadata": {},
   "outputs": [
    {
     "name": "stderr",
     "output_type": "stream",
     "text": [
      "/Users/cashbus/py3env/lib/python3.7/site-packages/ipykernel_launcher.py:25: SettingWithCopyWarning: \n",
      "A value is trying to be set on a copy of a slice from a DataFrame.\n",
      "Try using .loc[row_indexer,col_indexer] = value instead\n",
      "\n",
      "See the caveats in the documentation: https://pandas.pydata.org/pandas-docs/stable/user_guide/indexing.html#returning-a-view-versus-a-copy\n"
     ]
    },
    {
     "data": {
      "text/plain": [
       "False    263\n",
       "True      15\n",
       "Name: 是老用户, dtype: int64"
      ]
     },
     "execution_count": 89,
     "metadata": {},
     "output_type": "execute_result"
    }
   ],
   "source": [
    "# 虹如要的数据；\n",
    "# 6. reblue西瓜 新老顾客\n",
    "# 西瓜新老用户定义：7月1号之后来的，之前没来过都是新用户\n",
    "sql_loan = '''\n",
    "select * \n",
    "from mars_financial_settle_details f\n",
    "left join mars_hapay_store s on s.refid = f.storerefid\n",
    "left join mars_loan l on l.refid = f.loanrefid\n",
    "left join mars_user u on u.refid = l.userrefid\n",
    "where f.type='交易'\n",
    "'''\n",
    "\n",
    "blue = df_from_sql(sql_loan)\n",
    "\n",
    "blue = blue[blue.financeRefId.isin(['WFY2_Re-BLUE_default'])]\n",
    "blue['flag'] = 1\n",
    "user = blue.pivot_table(index='userRefId', \n",
    "                        values=['goodsOrderAmount', 'flag'],\n",
    "                        aggfunc={'goodsOrderAmount':sum,\n",
    "                                 'flag':sum})\n",
    "\n",
    "\n",
    "old_users = blue[blue.fundTime<'2020-07-01 00:00'].userRefId\n",
    "july_blue = blue[blue.fundTime>'2020-07-01 00:00']\n",
    "july_blue['是老用户'] = july_blue.userRefId.isin(old_users)\n",
    "# july_blue.index='userRefId', values='是老用户', aggfunc='')\n",
    "h = july_blue[['userRefId', '是老用户']].drop_duplicates().set_index('userRefId')\n",
    "h['是老用户'].value_counts()\n"
   ]
  },
  {
   "cell_type": "code",
   "execution_count": 90,
   "metadata": {},
   "outputs": [],
   "source": [
    "# 虹如要的数据；\n",
    "# 7. reblue 门店 月份 西瓜 ---- 总量 单数 金额;\n",
    "sql_loan = '''\n",
    "select * \n",
    "from yk_reblue_sale s\n",
    "left join yk_reblue_user u on u.user_id = s.user_id\n",
    "left join yk_reblue_saler sr on sr.saler_id = s.saler_id\n",
    "'''\n",
    "blue = df_from_sql(sql_loan)\n",
    "tmp_blue = blue[blue.sale_time.between('2020-06-01 00:00:00', '2020-08-01 00:00:00')]\n",
    "tmp_blue = tmp_blue[['paid_amt', 'hapay_pay', 'dp_id', 'user_id', 'sale_time', 'store_name']]\n",
    "tmp_blue['month'] = tmp_blue['sale_time'].apply(lambda x:str(x)[5:7])\n",
    "\n",
    "show1 = tmp_blue.pivot_table(index=['month', 'store_name'], \n",
    "                             values=['paid_amt','dp_id'], \n",
    "                             aggfunc={'paid_amt':sum, 'dp_id':'nunique'})\n",
    "\n",
    "xg = tmp_blue[tmp_blue.hapay_pay>0]\n",
    "xg = xg[['dp_id', 'hapay_pay', 'store_name', 'month']]\n",
    "xg = xg.drop_duplicates()\n",
    "show2 = xg.pivot_table(index=['month', 'store_name'],\n",
    "                       values=['hapay_pay','dp_id'], \n",
    "                       aggfunc={'hapay_pay':sum, 'dp_id':'nunique'})"
   ]
  },
  {
   "cell_type": "code",
   "execution_count": null,
   "metadata": {},
   "outputs": [],
   "source": [
    "show1"
   ]
  },
  {
   "cell_type": "code",
   "execution_count": 92,
   "metadata": {},
   "outputs": [
    {
     "data": {
      "text/html": [
       "<div>\n",
       "<style scoped>\n",
       "    .dataframe tbody tr th:only-of-type {\n",
       "        vertical-align: middle;\n",
       "    }\n",
       "\n",
       "    .dataframe tbody tr th {\n",
       "        vertical-align: top;\n",
       "    }\n",
       "\n",
       "    .dataframe thead th {\n",
       "        text-align: right;\n",
       "    }\n",
       "</style>\n",
       "<table border=\"1\" class=\"dataframe\">\n",
       "  <thead>\n",
       "    <tr style=\"text-align: right;\">\n",
       "      <th></th>\n",
       "      <th></th>\n",
       "      <th>dp_id</th>\n",
       "      <th>hapay_pay</th>\n",
       "    </tr>\n",
       "    <tr>\n",
       "      <th>month</th>\n",
       "      <th>store_name</th>\n",
       "      <th></th>\n",
       "      <th></th>\n",
       "    </tr>\n",
       "  </thead>\n",
       "  <tbody>\n",
       "    <tr>\n",
       "      <th rowspan=\"20\" valign=\"top\">06</th>\n",
       "      <th>上海宝杨宝龙</th>\n",
       "      <td>3</td>\n",
       "      <td>2517.20</td>\n",
       "    </tr>\n",
       "    <tr>\n",
       "      <th>兰州七里河店</th>\n",
       "      <td>8</td>\n",
       "      <td>14614.20</td>\n",
       "    </tr>\n",
       "    <tr>\n",
       "      <th>北京九龙山合生汇</th>\n",
       "      <td>8</td>\n",
       "      <td>13025.90</td>\n",
       "    </tr>\n",
       "    <tr>\n",
       "      <th>北京国瑞城</th>\n",
       "      <td>8</td>\n",
       "      <td>13225.80</td>\n",
       "    </tr>\n",
       "    <tr>\n",
       "      <th>北京大兴荟聚中心店</th>\n",
       "      <td>2</td>\n",
       "      <td>1606.90</td>\n",
       "    </tr>\n",
       "    <tr>\n",
       "      <th>北京朝阳金地中心店</th>\n",
       "      <td>7</td>\n",
       "      <td>8970.15</td>\n",
       "    </tr>\n",
       "    <tr>\n",
       "      <th>南京华采天地</th>\n",
       "      <td>1</td>\n",
       "      <td>279.30</td>\n",
       "    </tr>\n",
       "    <tr>\n",
       "      <th>南京龙湾天街</th>\n",
       "      <td>5</td>\n",
       "      <td>4524.00</td>\n",
       "    </tr>\n",
       "    <tr>\n",
       "      <th>常州环球港</th>\n",
       "      <td>1</td>\n",
       "      <td>509.70</td>\n",
       "    </tr>\n",
       "    <tr>\n",
       "      <th>杭州滨江宝龙城店</th>\n",
       "      <td>4</td>\n",
       "      <td>3664.70</td>\n",
       "    </tr>\n",
       "    <tr>\n",
       "      <th>杭州滨江龙湖天街</th>\n",
       "      <td>3</td>\n",
       "      <td>4185.30</td>\n",
       "    </tr>\n",
       "    <tr>\n",
       "      <th>杭州紫荆龙湖</th>\n",
       "      <td>7</td>\n",
       "      <td>12275.00</td>\n",
       "    </tr>\n",
       "    <tr>\n",
       "      <th>杭州西溪印象城</th>\n",
       "      <td>1</td>\n",
       "      <td>939.20</td>\n",
       "    </tr>\n",
       "    <tr>\n",
       "      <th>江苏南京印象汇</th>\n",
       "      <td>1</td>\n",
       "      <td>1040.00</td>\n",
       "    </tr>\n",
       "    <tr>\n",
       "      <th>江苏苏州工业园</th>\n",
       "      <td>3</td>\n",
       "      <td>6269.70</td>\n",
       "    </tr>\n",
       "    <tr>\n",
       "      <th>江苏苏州昆山九方城</th>\n",
       "      <td>1</td>\n",
       "      <td>1039.20</td>\n",
       "    </tr>\n",
       "    <tr>\n",
       "      <th>河南郑州永威木色</th>\n",
       "      <td>2</td>\n",
       "      <td>1697.80</td>\n",
       "    </tr>\n",
       "    <tr>\n",
       "      <th>济南恒隆</th>\n",
       "      <td>1</td>\n",
       "      <td>3986.30</td>\n",
       "    </tr>\n",
       "    <tr>\n",
       "      <th>深圳福田卓悦汇</th>\n",
       "      <td>13</td>\n",
       "      <td>21131.85</td>\n",
       "    </tr>\n",
       "    <tr>\n",
       "      <th>西安大融城</th>\n",
       "      <td>1</td>\n",
       "      <td>3526.10</td>\n",
       "    </tr>\n",
       "    <tr>\n",
       "      <th rowspan=\"25\" valign=\"top\">07</th>\n",
       "      <th>上海宝杨宝龙</th>\n",
       "      <td>21</td>\n",
       "      <td>39844.20</td>\n",
       "    </tr>\n",
       "    <tr>\n",
       "      <th>云南南亚风情城</th>\n",
       "      <td>1</td>\n",
       "      <td>4313.40</td>\n",
       "    </tr>\n",
       "    <tr>\n",
       "      <th>兰州七里河店</th>\n",
       "      <td>70</td>\n",
       "      <td>103600.45</td>\n",
       "    </tr>\n",
       "    <tr>\n",
       "      <th>北京九龙山合生汇</th>\n",
       "      <td>53</td>\n",
       "      <td>89632.15</td>\n",
       "    </tr>\n",
       "    <tr>\n",
       "      <th>北京国瑞城</th>\n",
       "      <td>30</td>\n",
       "      <td>57611.95</td>\n",
       "    </tr>\n",
       "    <tr>\n",
       "      <th>北京大兴荟聚中心店</th>\n",
       "      <td>31</td>\n",
       "      <td>53728.80</td>\n",
       "    </tr>\n",
       "    <tr>\n",
       "      <th>北京朝阳金地中心店</th>\n",
       "      <td>17</td>\n",
       "      <td>31059.85</td>\n",
       "    </tr>\n",
       "    <tr>\n",
       "      <th>南京中海环宇城</th>\n",
       "      <td>3</td>\n",
       "      <td>5235.10</td>\n",
       "    </tr>\n",
       "    <tr>\n",
       "      <th>南京龙湾天街</th>\n",
       "      <td>2</td>\n",
       "      <td>1398.80</td>\n",
       "    </tr>\n",
       "    <tr>\n",
       "      <th>呼和浩特振华店</th>\n",
       "      <td>7</td>\n",
       "      <td>15380.50</td>\n",
       "    </tr>\n",
       "    <tr>\n",
       "      <th>四川成都珠江广场</th>\n",
       "      <td>2</td>\n",
       "      <td>1857.80</td>\n",
       "    </tr>\n",
       "    <tr>\n",
       "      <th>四川成都龙湖西宸天街</th>\n",
       "      <td>1</td>\n",
       "      <td>109.30</td>\n",
       "    </tr>\n",
       "    <tr>\n",
       "      <th>杭州乐堤港</th>\n",
       "      <td>7</td>\n",
       "      <td>12346.10</td>\n",
       "    </tr>\n",
       "    <tr>\n",
       "      <th>杭州滨江宝龙城店</th>\n",
       "      <td>6</td>\n",
       "      <td>8597.00</td>\n",
       "    </tr>\n",
       "    <tr>\n",
       "      <th>杭州滨江龙湖天街</th>\n",
       "      <td>7</td>\n",
       "      <td>15932.70</td>\n",
       "    </tr>\n",
       "    <tr>\n",
       "      <th>杭州紫荆龙湖</th>\n",
       "      <td>28</td>\n",
       "      <td>63297.80</td>\n",
       "    </tr>\n",
       "    <tr>\n",
       "      <th>杭州西溪印象城</th>\n",
       "      <td>1</td>\n",
       "      <td>1299.00</td>\n",
       "    </tr>\n",
       "    <tr>\n",
       "      <th>江苏苏州工业园</th>\n",
       "      <td>4</td>\n",
       "      <td>11459.80</td>\n",
       "    </tr>\n",
       "    <tr>\n",
       "      <th>河南郑州公园茂店</th>\n",
       "      <td>4</td>\n",
       "      <td>30897.00</td>\n",
       "    </tr>\n",
       "    <tr>\n",
       "      <th>济南恒隆</th>\n",
       "      <td>5</td>\n",
       "      <td>10198.80</td>\n",
       "    </tr>\n",
       "    <tr>\n",
       "      <th>深圳福田卓悦汇</th>\n",
       "      <td>21</td>\n",
       "      <td>33046.00</td>\n",
       "    </tr>\n",
       "    <tr>\n",
       "      <th>石家庄万达</th>\n",
       "      <td>2</td>\n",
       "      <td>2177.90</td>\n",
       "    </tr>\n",
       "    <tr>\n",
       "      <th>西安大融城</th>\n",
       "      <td>13</td>\n",
       "      <td>27763.15</td>\n",
       "    </tr>\n",
       "    <tr>\n",
       "      <th>西安曲江新区金地</th>\n",
       "      <td>3</td>\n",
       "      <td>5995.40</td>\n",
       "    </tr>\n",
       "    <tr>\n",
       "      <th>贵阳金阳南路店</th>\n",
       "      <td>8</td>\n",
       "      <td>12157.70</td>\n",
       "    </tr>\n",
       "  </tbody>\n",
       "</table>\n",
       "</div>"
      ],
      "text/plain": [
       "                  dp_id  hapay_pay\n",
       "month store_name                  \n",
       "06    上海宝杨宝龙          3    2517.20\n",
       "      兰州七里河店          8   14614.20\n",
       "      北京九龙山合生汇        8   13025.90\n",
       "      北京国瑞城           8   13225.80\n",
       "      北京大兴荟聚中心店       2    1606.90\n",
       "      北京朝阳金地中心店       7    8970.15\n",
       "      南京华采天地          1     279.30\n",
       "      南京龙湾天街          5    4524.00\n",
       "      常州环球港           1     509.70\n",
       "      杭州滨江宝龙城店        4    3664.70\n",
       "      杭州滨江龙湖天街        3    4185.30\n",
       "      杭州紫荆龙湖          7   12275.00\n",
       "      杭州西溪印象城         1     939.20\n",
       "      江苏南京印象汇         1    1040.00\n",
       "      江苏苏州工业园         3    6269.70\n",
       "      江苏苏州昆山九方城       1    1039.20\n",
       "      河南郑州永威木色        2    1697.80\n",
       "      济南恒隆            1    3986.30\n",
       "      深圳福田卓悦汇        13   21131.85\n",
       "      西安大融城           1    3526.10\n",
       "07    上海宝杨宝龙         21   39844.20\n",
       "      云南南亚风情城         1    4313.40\n",
       "      兰州七里河店         70  103600.45\n",
       "      北京九龙山合生汇       53   89632.15\n",
       "      北京国瑞城          30   57611.95\n",
       "      北京大兴荟聚中心店      31   53728.80\n",
       "      北京朝阳金地中心店      17   31059.85\n",
       "      南京中海环宇城         3    5235.10\n",
       "      南京龙湾天街          2    1398.80\n",
       "      呼和浩特振华店         7   15380.50\n",
       "      四川成都珠江广场        2    1857.80\n",
       "      四川成都龙湖西宸天街      1     109.30\n",
       "      杭州乐堤港           7   12346.10\n",
       "      杭州滨江宝龙城店        6    8597.00\n",
       "      杭州滨江龙湖天街        7   15932.70\n",
       "      杭州紫荆龙湖         28   63297.80\n",
       "      杭州西溪印象城         1    1299.00\n",
       "      江苏苏州工业园         4   11459.80\n",
       "      河南郑州公园茂店        4   30897.00\n",
       "      济南恒隆            5   10198.80\n",
       "      深圳福田卓悦汇        21   33046.00\n",
       "      石家庄万达           2    2177.90\n",
       "      西安大融城          13   27763.15\n",
       "      西安曲江新区金地        3    5995.40\n",
       "      贵阳金阳南路店         8   12157.70"
      ]
     },
     "execution_count": 92,
     "metadata": {},
     "output_type": "execute_result"
    }
   ],
   "source": [
    "show2"
   ]
  },
  {
   "cell_type": "code",
   "execution_count": null,
   "metadata": {},
   "outputs": [],
   "source": []
  },
  {
   "cell_type": "code",
   "execution_count": null,
   "metadata": {},
   "outputs": [],
   "source": []
  },
  {
   "cell_type": "code",
   "execution_count": null,
   "metadata": {},
   "outputs": [],
   "source": []
  },
  {
   "cell_type": "code",
   "execution_count": null,
   "metadata": {},
   "outputs": [],
   "source": []
  },
  {
   "cell_type": "code",
   "execution_count": null,
   "metadata": {},
   "outputs": [],
   "source": []
  },
  {
   "cell_type": "code",
   "execution_count": null,
   "metadata": {},
   "outputs": [],
   "source": []
  },
  {
   "cell_type": "code",
   "execution_count": null,
   "metadata": {},
   "outputs": [],
   "source": []
  },
  {
   "cell_type": "code",
   "execution_count": null,
   "metadata": {},
   "outputs": [],
   "source": []
  },
  {
   "cell_type": "code",
   "execution_count": null,
   "metadata": {},
   "outputs": [],
   "source": []
  },
  {
   "cell_type": "code",
   "execution_count": null,
   "metadata": {},
   "outputs": [],
   "source": []
  },
  {
   "cell_type": "code",
   "execution_count": null,
   "metadata": {},
   "outputs": [],
   "source": []
  },
  {
   "cell_type": "code",
   "execution_count": 97,
   "metadata": {},
   "outputs": [],
   "source": [
    "# 游总要的数据 - 周-门店-金额-单数；\n",
    "\n",
    "sql_wxtd = '''\n",
    "select * \n",
    "from mars_financial_settle_details f\n",
    "left join mars_hapay_store s on s.refid = f.storerefid\n",
    "left join mars_loan l on l.refid = f.loanrefid;\n",
    "'''\n",
    "f = df_from_sql(sql_wxtd)\n",
    "filter1 = '''KECHUAN_SZWXTD_default\n",
    "IMPOS_SZWXTD_default\n",
    "XGMDSY_CC_drivepro'''.splitlines()\n",
    "sw = f[f.financeRefId.isin(filter1)]\n",
    "sww = sw[['created', 'loanRefId', 'type', 'goodsOrderAmount', 'storeRefId', 'name', 'financeRefId', ]]\n",
    "sww.columns = ['created', 'created1', 'created2', 'loanRefId', 'type', 'type1', 'type2',\n",
    "       'goodsOrderAmount', 'storeRefId', 'name', 'name1', 'financeRefId']\n",
    "refund_loans = sww[sww.type=='退款'].loanRefId\n",
    "\n",
    "sww2 = sww[~sww.loanRefId.isin(refund_loans)]\n",
    "\n",
    "sww3 = sww2[['created', 'loanRefId', 'goodsOrderAmount', 'name1', 'financeRefId']].copy()\n",
    "\n",
    "sww3['date'] = sww3.created.apply(lambda x: str(x)[5:10])\n",
    "def apply_week(date_str):\n",
    "    if date_str in ['07-17', '07-18', '07-19', '07-20', '07-21', '07-22', '07-23']:\n",
    "        return '上线第一周'\n",
    "    elif date_str in ['07-24', '07-25', '07-26', '07-27', '07-28', '07-29', '07-30']:\n",
    "        return '上线第二周'    \n",
    "    else:\n",
    "        raise Exception('not allowed!')\n",
    "sww3['week'] = sww3['date'].apply(lambda x: apply_week(x))\n",
    "\n",
    "# sww3.to_csv('/Users/cashbus/Desktop/深圳万象天地两周原始数据4.csv', float_format='%.1f')\n",
    "sww3['num_orders']= 1\n",
    "\n",
    "sww4 = sww3.pivot_table(index=['week','name1'], \n",
    "                 values=['goodsOrderAmount','num_orders'], \n",
    "                 aggfunc={'goodsOrderAmount':sum, 'num_orders':sum})\n",
    "\n",
    "\n",
    "all_stores = df_from_sql('select * from mars_hapay_store')\n",
    "all_stores = all_stores[all_stores.financeRefId.isin(filter1)].name.unique()\n",
    "\n",
    "res = []\n",
    "for week in ['上线第一周', '上线第二周']:\n",
    "    tmp = sww4.loc[week]\n",
    "    for s in all_stores:\n",
    "        try:\n",
    "            tmp.loc[s]\n",
    "        except:\n",
    "            tmp.loc[s, :] = 0, 0 \n",
    "    tmp['week'] = week\n",
    "    res.append(tmp)\n",
    "\n",
    "final = pd.concat(res)"
   ]
  },
  {
   "cell_type": "code",
   "execution_count": 88,
   "metadata": {},
   "outputs": [],
   "source": [
    "# 虹如要的数据；\n",
    "# 1. hapay-reblue 价格分布；\n",
    "\n",
    "sql_loan = '''\n",
    "select * \n",
    "from mars_financial_settle_details f\n",
    "left join mars_hapay_store s on s.refid = f.storerefid\n",
    "left join mars_loan l on l.refid = f.loanrefid\n",
    "left join mars_user u on u.refid = l.userrefid\n",
    "where f.type='交易'\n",
    "'''\n",
    "\n",
    "blue = df_from_sql(sql_loan)\n",
    "blue = blue[blue.financeRefId.isin(['WFY2_Re-BLUE_default'])]\n",
    "july_blue = blue[blue.fundTime>'2020-07-01 00:00']\n",
    "user = july_blue.pivot_table(index='userRefId', values=['goodsOrderAmount'], aggfunc=sum)\n",
    "amt_dist = pd.cut(user.goodsOrderAmount, \n",
    "       bins=[0,1000,2000,3000,4000,5000,6000,1000000], \n",
    "       labels=['￥0-1000', '￥1000-2000', '￥2000-3000', '￥3000-4000', '￥4000-5000', '￥5000-6000', '￥6000以上']\n",
    "      )\n",
    "\n",
    "pd.DataFrame(amt_dist.value_counts()).to_csv('/Users/cashbus/Desktop/按人交易额分布2.csv')"
   ]
  },
  {
   "cell_type": "code",
   "execution_count": 19,
   "metadata": {},
   "outputs": [
    {
     "name": "stderr",
     "output_type": "stream",
     "text": [
      "/Users/cashbus/py3env/lib/python3.7/site-packages/ipykernel_launcher.py:26: SettingWithCopyWarning: \n",
      "A value is trying to be set on a copy of a slice from a DataFrame.\n",
      "Try using .loc[row_indexer,col_indexer] = value instead\n",
      "\n",
      "See the caveats in the documentation: https://pandas.pydata.org/pandas-docs/stable/user_guide/indexing.html#returning-a-view-versus-a-copy\n"
     ]
    },
    {
     "data": {
      "text/plain": [
       "False    261\n",
       "True      14\n",
       "Name: 是老用户, dtype: int64"
      ]
     },
     "execution_count": 19,
     "metadata": {},
     "output_type": "execute_result"
    }
   ],
   "source": [
    "# 虹如要的数据；\n",
    "# 2. reblue回头客统计；\n",
    "# 西瓜新老用户定义：7月1号之后来的，之前没来过都是新用户;\n",
    "\n",
    "sql_loan = '''\n",
    "select * \n",
    "from mars_financial_settle_details f\n",
    "left join mars_hapay_store s on s.refid = f.storerefid\n",
    "left join mars_loan l on l.refid = f.loanrefid\n",
    "left join mars_user u on u.refid = l.userrefid\n",
    "where f.type='交易'\n",
    "'''\n",
    "\n",
    "blue = df_from_sql(sql_loan)\n",
    "\n",
    "blue = blue[blue.financeRefId.isin(['WFY2_Re-BLUE_default'])]\n",
    "blue['flag'] = 1\n",
    "user = blue.pivot_table(index='userRefId', \n",
    "                        values=['goodsOrderAmount', 'flag'],\n",
    "                        aggfunc={'goodsOrderAmount':sum,\n",
    "                                 'flag':sum})\n",
    "\n",
    "\n",
    "\n",
    "old_users = blue[blue.fundTime<'2020-07-01 00:00'].userRefId\n",
    "july_blue = blue[blue.fundTime>'2020-07-01 00:00']\n",
    "july_blue['是老用户'] = july_blue.userRefId.isin(old_users)\n",
    "# july_blue.index='userRefId', values='是老用户', aggfunc='')\n",
    "h = july_blue[['userRefId', '是老用户']].drop_duplicates().set_index('userRefId')\n",
    "h['是老用户'].value_counts()"
   ]
  },
  {
   "cell_type": "code",
   "execution_count": 18,
   "metadata": {},
   "outputs": [
    {
     "name": "stderr",
     "output_type": "stream",
     "text": [
      "/Users/cashbus/py3env/lib/python3.7/site-packages/ipykernel_launcher.py:18: SettingWithCopyWarning: \n",
      "A value is trying to be set on a copy of a slice from a DataFrame.\n",
      "Try using .loc[row_indexer,col_indexer] = value instead\n",
      "\n",
      "See the caveats in the documentation: https://pandas.pydata.org/pandas-docs/stable/user_guide/indexing.html#returning-a-view-versus-a-copy\n"
     ]
    },
    {
     "data": {
      "text/html": [
       "<div>\n",
       "<style scoped>\n",
       "    .dataframe tbody tr th:only-of-type {\n",
       "        vertical-align: middle;\n",
       "    }\n",
       "\n",
       "    .dataframe tbody tr th {\n",
       "        vertical-align: top;\n",
       "    }\n",
       "\n",
       "    .dataframe thead th {\n",
       "        text-align: right;\n",
       "    }\n",
       "</style>\n",
       "<table border=\"1\" class=\"dataframe\">\n",
       "  <thead>\n",
       "    <tr style=\"text-align: right;\">\n",
       "      <th></th>\n",
       "      <th>goodsOrderAmount</th>\n",
       "      <th>personRefId</th>\n",
       "    </tr>\n",
       "    <tr>\n",
       "      <th>年龄分段</th>\n",
       "      <th></th>\n",
       "      <th></th>\n",
       "    </tr>\n",
       "  </thead>\n",
       "  <tbody>\n",
       "    <tr>\n",
       "      <th>20岁以下</th>\n",
       "      <td>0.00</td>\n",
       "      <td>0</td>\n",
       "    </tr>\n",
       "    <tr>\n",
       "      <th>21~30岁</th>\n",
       "      <td>201285.35</td>\n",
       "      <td>104</td>\n",
       "    </tr>\n",
       "    <tr>\n",
       "      <th>31~40岁</th>\n",
       "      <td>338476.20</td>\n",
       "      <td>137</td>\n",
       "    </tr>\n",
       "    <tr>\n",
       "      <th>41~50岁</th>\n",
       "      <td>88220.30</td>\n",
       "      <td>28</td>\n",
       "    </tr>\n",
       "    <tr>\n",
       "      <th>50岁以上</th>\n",
       "      <td>10958.80</td>\n",
       "      <td>6</td>\n",
       "    </tr>\n",
       "  </tbody>\n",
       "</table>\n",
       "</div>"
      ],
      "text/plain": [
       "        goodsOrderAmount  personRefId\n",
       "年龄分段                                 \n",
       "20岁以下               0.00            0\n",
       "21~30岁         201285.35          104\n",
       "31~40岁         338476.20          137\n",
       "41~50岁          88220.30           28\n",
       "50岁以上           10958.80            6"
      ]
     },
     "execution_count": 18,
     "metadata": {},
     "output_type": "execute_result"
    }
   ],
   "source": [
    "# 虹如要的数据；\n",
    "# 3. reblue 7月份 年龄 人均消费情况；\n",
    "# 西瓜新老用户定义：7月1号之后来的，之前没来过都是新用户\n",
    "sql_loan = '''\n",
    "select * \n",
    "from mars_financial_settle_details f\n",
    "left join mars_hapay_store s on s.refid = f.storerefid\n",
    "left join mars_loan l on l.refid = f.loanrefid\n",
    "left join mars_user u on u.refid = l.userrefid\n",
    "left join mars_person p on p.refid = u.personrefid\n",
    "where f.type='交易'\n",
    "'''\n",
    "\n",
    "blue = df_from_sql(sql_loan)\n",
    "\n",
    "blue = blue[blue.financeRefId.isin(['WFY2_Re-BLUE_default'])]\n",
    "july_blue = blue[blue.fundTime>'2020-07-01 00:00']\n",
    "july_blue['age'] = (pd.to_datetime('2020-07-31') - pd.to_datetime(july_blue.birthdate))/pd.Timedelta('365 days')\n",
    "\n",
    "\n",
    "jb = july_blue[['fundTime', 'goodsOrderAmount', 'age', 'personRefId']].iloc[:,:-1]\n",
    "jb['年龄分段'] = pd.cut(jb.age, bins=[0,20,30,40,50,120], labels=['20岁以下', '21~30岁', '31~40岁', '41~50岁', '50岁以上'])\n",
    "jb.pivot_table(index=['年龄分段'], values=['goodsOrderAmount', 'personRefId'], aggfunc={'goodsOrderAmount':sum,\n",
    "                                                                                   'personRefId':'nunique'})"
   ]
  },
  {
   "cell_type": "code",
   "execution_count": 36,
   "metadata": {},
   "outputs": [
    {
     "data": {
      "text/plain": [
       "883228.0500000003"
      ]
     },
     "execution_count": 36,
     "metadata": {},
     "output_type": "execute_result"
    }
   ],
   "source": [
    "# 虹如要的数据；\n",
    "# 4. reblue全量 7月 - 全量 6月；\n",
    "\n",
    "sql_loan = '''\n",
    "select * \n",
    "from yk_reblue_sale\n",
    "'''\n",
    "\n",
    "blue = df_from_sql(sql_loan)\n",
    "\n",
    "june_blue = blue[blue.sale_time.between('2020-06-01 00:00', '2020-07-01 00:00')]\n",
    "july_blue = blue[blue.sale_time.between('2020-07-01 00:00', '2020-08-01 00:00')]\n",
    "\n",
    "july_blue.paid_amt.sum()\n",
    "june_blue.paid_amt.sum()\n",
    "july_blue.paid_amt.sum() - june_blue.paid_amt.sum()\n"
   ]
  },
  {
   "cell_type": "code",
   "execution_count": 40,
   "metadata": {},
   "outputs": [
    {
     "data": {
      "text/plain": [
       "5036275.37"
      ]
     },
     "execution_count": 40,
     "metadata": {},
     "output_type": "execute_result"
    }
   ],
   "source": [
    "july_blue.paid_amt.sum()"
   ]
  },
  {
   "cell_type": "code",
   "execution_count": 34,
   "metadata": {},
   "outputs": [
    {
     "name": "stdout",
     "output_type": "stream",
     "text": [
      "546\n",
      "2512\n"
     ]
    },
    {
     "data": {
      "text/plain": [
       "1897.4486559843037"
      ]
     },
     "execution_count": 34,
     "metadata": {},
     "output_type": "execute_result"
    }
   ],
   "source": [
    "# 虹如要的数据；\n",
    "# 5. reblue全量 7月 客单价 总价/人数，如果非会员用dp_id代表人数；\n",
    "\n",
    "sql_loan = '''\n",
    "select * \n",
    "from yk_reblue_sale s\n",
    "left join yk_reblue_user u on u.user_id = s.user_id\n",
    "'''\n",
    "\n",
    "blue = df_from_sql(sql_loan)\n",
    "july_blue = blue[blue.sale_time.between('2020-07-01 00:00', '2020-08-01 00:00')]\n",
    "\n",
    "\n",
    "t = july_blue[['user_id', 'paid_amt', 'dp_id', 'xp_id']]\n",
    "t = t[t.paid_amt>0].iloc[:,1:]\n",
    "\n",
    "novip = t[t.user_id.isnull()]\n",
    "vip = t[~t.user_id.isnull()]\n",
    "print(novip.dp_id.nunique())\n",
    "print(vip.user_id.nunique())\n",
    "\n",
    "t.paid_amt.sum()/(novip.dp_id.nunique() + vip.user_id.nunique())"
   ]
  },
  {
   "cell_type": "code",
   "execution_count": null,
   "metadata": {},
   "outputs": [],
   "source": [
    "# 6. rebl "
   ]
  },
  {
   "cell_type": "code",
   "execution_count": 35,
   "metadata": {},
   "outputs": [
    {
     "name": "stdout",
     "output_type": "stream",
     "text": [
      "3934\n",
      "1474.9359405185564\n"
     ]
    }
   ],
   "source": [
    "# 全用dp\n",
    "print(t.dp_id.nunique())\n",
    "print(t.paid_amt.sum()/t.dp_id.nunique())"
   ]
  },
  {
   "cell_type": "code",
   "execution_count": 22,
   "metadata": {},
   "outputs": [
    {
     "data": {
      "text/html": [
       "<div>\n",
       "<style scoped>\n",
       "    .dataframe tbody tr th:only-of-type {\n",
       "        vertical-align: middle;\n",
       "    }\n",
       "\n",
       "    .dataframe tbody tr th {\n",
       "        vertical-align: top;\n",
       "    }\n",
       "\n",
       "    .dataframe thead th {\n",
       "        text-align: right;\n",
       "    }\n",
       "</style>\n",
       "<table border=\"1\" class=\"dataframe\">\n",
       "  <thead>\n",
       "    <tr style=\"text-align: right;\">\n",
       "      <th></th>\n",
       "      <th>dp_id</th>\n",
       "      <th>paid_amt</th>\n",
       "    </tr>\n",
       "    <tr>\n",
       "      <th>user_id</th>\n",
       "      <th></th>\n",
       "      <th></th>\n",
       "    </tr>\n",
       "  </thead>\n",
       "  <tbody>\n",
       "    <tr>\n",
       "      <th>00020006</th>\n",
       "      <td>41</td>\n",
       "      <td>61603.94</td>\n",
       "    </tr>\n",
       "    <tr>\n",
       "      <th>00060002</th>\n",
       "      <td>1</td>\n",
       "      <td>1608.60</td>\n",
       "    </tr>\n",
       "    <tr>\n",
       "      <th>13002212195</th>\n",
       "      <td>1</td>\n",
       "      <td>719.20</td>\n",
       "    </tr>\n",
       "    <tr>\n",
       "      <th>13011031939</th>\n",
       "      <td>1</td>\n",
       "      <td>349.50</td>\n",
       "    </tr>\n",
       "    <tr>\n",
       "      <th>13018965881</th>\n",
       "      <td>1</td>\n",
       "      <td>619.20</td>\n",
       "    </tr>\n",
       "    <tr>\n",
       "      <th>...</th>\n",
       "      <td>...</td>\n",
       "      <td>...</td>\n",
       "    </tr>\n",
       "    <tr>\n",
       "      <th>EZR00000000000003321</th>\n",
       "      <td>2</td>\n",
       "      <td>2078.30</td>\n",
       "    </tr>\n",
       "    <tr>\n",
       "      <th>EZR00000000000003322</th>\n",
       "      <td>1</td>\n",
       "      <td>1118.40</td>\n",
       "    </tr>\n",
       "    <tr>\n",
       "      <th>EZR00000000000003323</th>\n",
       "      <td>1</td>\n",
       "      <td>1738.40</td>\n",
       "    </tr>\n",
       "    <tr>\n",
       "      <th>EZR00000000000003324</th>\n",
       "      <td>1</td>\n",
       "      <td>2637.50</td>\n",
       "    </tr>\n",
       "    <tr>\n",
       "      <th>EZR00000000000003325</th>\n",
       "      <td>1</td>\n",
       "      <td>968.50</td>\n",
       "    </tr>\n",
       "  </tbody>\n",
       "</table>\n",
       "<p>2512 rows × 2 columns</p>\n",
       "</div>"
      ],
      "text/plain": [
       "                      dp_id  paid_amt\n",
       "user_id                              \n",
       "00020006                 41  61603.94\n",
       "00060002                  1   1608.60\n",
       "13002212195               1    719.20\n",
       "13011031939               1    349.50\n",
       "13018965881               1    619.20\n",
       "...                     ...       ...\n",
       "EZR00000000000003321      2   2078.30\n",
       "EZR00000000000003322      1   1118.40\n",
       "EZR00000000000003323      1   1738.40\n",
       "EZR00000000000003324      1   2637.50\n",
       "EZR00000000000003325      1    968.50\n",
       "\n",
       "[2512 rows x 2 columns]"
      ]
     },
     "execution_count": 22,
     "metadata": {},
     "output_type": "execute_result"
    }
   ],
   "source": [
    "t.pivot_table(index=['user_id'], \n",
    "              values=['paid_amt', 'dp_id'], \n",
    "              aggfunc={'paid_amt':sum, 'dp_id':'nunique'})\n"
   ]
  },
  {
   "cell_type": "code",
   "execution_count": 2,
   "metadata": {},
   "outputs": [],
   "source": [
    "def schema_from_sql(tb_name, to_type='pg'):\n",
    "    #1. 从polar/sql中抽取表结构;\n",
    "    '''\n",
    "    tb_name: table name;\n",
    "    to_type: 'pg', 'odps'\n",
    "    '''\n",
    "    assert to_type in ['pg', 'odps']\n",
    "    import pymysql\n",
    "    connect = pymysql.Connect(\n",
    "        host=polar_host,\n",
    "        port=polar_port,\n",
    "        user=polar_user,\n",
    "        passwd=polar_pswd,\n",
    "        db=polar_db\n",
    "    )\n",
    "    cursor = connect.cursor()\n",
    "    query_get_one_schema = '''SHOW COLUMNS FROM {};'''.format(tb_name)\n",
    "    cursor.execute(query_get_one_schema)\n",
    "    res = cursor.fetchall()\n",
    "    table_schema_df = pd.DataFrame(res, columns = ['col', 'type', 'null', 'K', 'default', 'extra'])\n",
    "    #print(table_schema_df)\n",
    "    if to_type == 'pg':\n",
    "        table_schema_df['type'] = table_schema_df.type.apply(str2pg_type)\n",
    "    elif to_type == 'odps':\n",
    "        table_schema_df['type'] = table_schema_df.type.apply(str2odps_type)\n",
    "    else:\n",
    "        raise Exception('not allowed')\n",
    "    return table_schema_df"
   ]
  },
  {
   "cell_type": "code",
   "execution_count": null,
   "metadata": {},
   "outputs": [],
   "source": []
  },
  {
   "cell_type": "code",
   "execution_count": null,
   "metadata": {},
   "outputs": [],
   "source": []
  },
  {
   "cell_type": "code",
   "execution_count": null,
   "metadata": {},
   "outputs": [],
   "source": []
  },
  {
   "cell_type": "code",
   "execution_count": null,
   "metadata": {},
   "outputs": [],
   "source": []
  },
  {
   "cell_type": "code",
   "execution_count": null,
   "metadata": {},
   "outputs": [],
   "source": []
  },
  {
   "cell_type": "code",
   "execution_count": 10,
   "metadata": {},
   "outputs": [],
   "source": [
    "from pytube import YouTube\n",
    "VEDIO = YouTube('https://www.youtube.com/watch?v=JRA2lxuLF3Y&frags=wn')"
   ]
  },
  {
   "cell_type": "code",
   "execution_count": 11,
   "metadata": {},
   "outputs": [
    {
     "data": {
      "text/plain": [
       "'/Users/cashbus/Desktop/YouTube.mp4'"
      ]
     },
     "execution_count": 11,
     "metadata": {},
     "output_type": "execute_result"
    }
   ],
   "source": [
    "VEDIO.streams[0].download()"
   ]
  },
  {
   "cell_type": "code",
   "execution_count": 1,
   "metadata": {},
   "outputs": [],
   "source": [
    "from colormap import rgb2hex, hex2rgb\n",
    "COLORS = {}\n",
    "COLORS['green'] = rgb2hex(211, 230, 196)\n",
    "COLORS['blue'] = rgb2hex(203, 216, 239)\n",
    "COLORS['yellow'] = rgb2hex(255, 248, 230)\n",
    "COLORS['red'] = rgb2hex(254, 173, 169)\n",
    "COLORS['black'] = rgb2hex(133, 143, 160)"
   ]
  },
  {
   "cell_type": "code",
   "execution_count": 107,
   "metadata": {},
   "outputs": [
    {
     "data": {
      "application/vnd.jupyter.widget-view+json": {
       "model_id": "6ccb26b13b434ef28601b243a0bf69a1",
       "version_major": 2,
       "version_minor": 0
      },
      "text/plain": [
       "TransientProgressBar(value=0.0)"
      ]
     },
     "metadata": {},
     "output_type": "display_data"
    },
    {
     "data": {
      "application/vnd.jupyter.widget-view+json": {
       "model_id": "8d0f2f0590eb40fea4ff468ef26a6edf",
       "version_major": 2,
       "version_minor": 0
      },
      "text/plain": [
       "InstancesProgress()"
      ]
     },
     "metadata": {},
     "output_type": "display_data"
    },
    {
     "data": {
      "application/vnd.jupyter.widget-view+json": {
       "model_id": "b3d8fc4569b14f1a840d2cf878b13af0",
       "version_major": 2,
       "version_minor": 0
      },
      "text/plain": [
       "HTMLNotifier()"
      ]
     },
     "metadata": {},
     "output_type": "display_data"
    }
   ],
   "source": [
    "from odps import ODPS\n",
    "from collections import defaultdict\n",
    "import json\n",
    "from odps import options\n",
    "import pandas as pd\n",
    "from odps.df import DataFrame\n",
    "import ipdb\n",
    "import xlsxwriter\n",
    "o = ODPS('LTAI4GK2qnyJEcGaTQBngnCA', 'r0W0kodzenHTyDQG8WoIEPTiPddJSv', 'xianmai_dw_dev', 'http://service.cn-beijing.maxcompute.aliyun.com/api')\n",
    "\n",
    "# options.verbose=True\n",
    "tmp = DataFrame(o.get_table('xianmai_last_record_ps2')).to_pandas()"
   ]
  },
  {
   "cell_type": "code",
   "execution_count": 3,
   "metadata": {},
   "outputs": [
    {
     "data": {
      "text/html": [
       "<div>\n",
       "<style scoped>\n",
       "    .dataframe tbody tr th:only-of-type {\n",
       "        vertical-align: middle;\n",
       "    }\n",
       "\n",
       "    .dataframe tbody tr th {\n",
       "        vertical-align: top;\n",
       "    }\n",
       "\n",
       "    .dataframe thead th {\n",
       "        text-align: right;\n",
       "    }\n",
       "</style>\n",
       "<table border=\"1\" class=\"dataframe\">\n",
       "  <thead>\n",
       "    <tr style=\"text-align: right;\">\n",
       "      <th></th>\n",
       "      <th>table_name</th>\n",
       "      <th>lasttime</th>\n",
       "      <th>lastrecord</th>\n",
       "      <th>tablename</th>\n",
       "    </tr>\n",
       "  </thead>\n",
       "  <tbody>\n",
       "    <tr>\n",
       "      <th>0</th>\n",
       "      <td>mars_hapay_refund_task</td>\n",
       "      <td>2020-07-03 00:00:00</td>\n",
       "      <td>1</td>\n",
       "      <td>mars_hapay_refund_task</td>\n",
       "    </tr>\n",
       "    <tr>\n",
       "      <th>1</th>\n",
       "      <td>mars_loan</td>\n",
       "      <td>2020-07-03 00:00:00</td>\n",
       "      <td>1</td>\n",
       "      <td>mars_loan</td>\n",
       "    </tr>\n",
       "    <tr>\n",
       "      <th>2</th>\n",
       "      <td>mars_loan_meta</td>\n",
       "      <td>2020-07-03 00:00:00</td>\n",
       "      <td>1</td>\n",
       "      <td>mars_loan_meta</td>\n",
       "    </tr>\n",
       "    <tr>\n",
       "      <th>3</th>\n",
       "      <td>mars_wy_event</td>\n",
       "      <td>2020-07-03 00:00:00</td>\n",
       "      <td>1</td>\n",
       "      <td>mars_wy_event</td>\n",
       "    </tr>\n",
       "    <tr>\n",
       "      <th>4</th>\n",
       "      <td>mongo_credit</td>\n",
       "      <td>2020-07-03 00:00:00</td>\n",
       "      <td>1</td>\n",
       "      <td>mongo_credit</td>\n",
       "    </tr>\n",
       "    <tr>\n",
       "      <th>5</th>\n",
       "      <td>mongo_credit_loaned</td>\n",
       "      <td>2020-07-03 00:00:00</td>\n",
       "      <td>1</td>\n",
       "      <td>mongo_credit_loaned</td>\n",
       "    </tr>\n",
       "    <tr>\n",
       "      <th>6</th>\n",
       "      <td>mongo_loan</td>\n",
       "      <td>2020-07-03 00:00:00</td>\n",
       "      <td>1</td>\n",
       "      <td>mongo_loan</td>\n",
       "    </tr>\n",
       "    <tr>\n",
       "      <th>7</th>\n",
       "      <td>mongo_process</td>\n",
       "      <td>2020-07-03 00:00:00</td>\n",
       "      <td>1</td>\n",
       "      <td>mongo_process</td>\n",
       "    </tr>\n",
       "  </tbody>\n",
       "</table>\n",
       "</div>"
      ],
      "text/plain": [
       "               table_name             lasttime lastrecord  \\\n",
       "0  mars_hapay_refund_task  2020-07-03 00:00:00          1   \n",
       "1               mars_loan  2020-07-03 00:00:00          1   \n",
       "2          mars_loan_meta  2020-07-03 00:00:00          1   \n",
       "3           mars_wy_event  2020-07-03 00:00:00          1   \n",
       "4            mongo_credit  2020-07-03 00:00:00          1   \n",
       "5     mongo_credit_loaned  2020-07-03 00:00:00          1   \n",
       "6              mongo_loan  2020-07-03 00:00:00          1   \n",
       "7           mongo_process  2020-07-03 00:00:00          1   \n",
       "\n",
       "                tablename  \n",
       "0  mars_hapay_refund_task  \n",
       "1               mars_loan  \n",
       "2          mars_loan_meta  \n",
       "3           mars_wy_event  \n",
       "4            mongo_credit  \n",
       "5     mongo_credit_loaned  \n",
       "6              mongo_loan  \n",
       "7           mongo_process  "
      ]
     },
     "execution_count": 3,
     "metadata": {},
     "output_type": "execute_result"
    }
   ],
   "source": [
    "tmp"
   ]
  },
  {
   "cell_type": "code",
   "execution_count": 117,
   "metadata": {},
   "outputs": [
    {
     "data": {
      "application/vnd.jupyter.widget-view+json": {
       "model_id": "7cb2680e0c154c688c106f13db7e8fea",
       "version_major": 2,
       "version_minor": 0
      },
      "text/plain": [
       "TransientProgressBar(value=0.0)"
      ]
     },
     "metadata": {},
     "output_type": "display_data"
    },
    {
     "data": {
      "application/vnd.jupyter.widget-view+json": {
       "model_id": "eb167212b053494ebf034d3c968a79ae",
       "version_major": 2,
       "version_minor": 0
      },
      "text/plain": [
       "InstancesProgress()"
      ]
     },
     "metadata": {},
     "output_type": "display_data"
    },
    {
     "data": {
      "application/vnd.jupyter.widget-view+json": {
       "model_id": "f2fb962f0dad4bba9f75e5946911934c",
       "version_major": 2,
       "version_minor": 0
      },
      "text/plain": [
       "HTMLNotifier()"
      ]
     },
     "metadata": {},
     "output_type": "display_data"
    },
    {
     "data": {
      "application/vnd.jupyter.widget-view+json": {
       "model_id": "aa8ad3f6ca274d34928deef7fdf4e89d",
       "version_major": 2,
       "version_minor": 0
      },
      "text/plain": [
       "TransientProgressBar(value=0.0)"
      ]
     },
     "metadata": {},
     "output_type": "display_data"
    },
    {
     "data": {
      "application/vnd.jupyter.widget-view+json": {
       "model_id": "0cc824b4fbad4a46bac10f7b61bb686c",
       "version_major": 2,
       "version_minor": 0
      },
      "text/plain": [
       "InstancesProgress()"
      ]
     },
     "metadata": {},
     "output_type": "display_data"
    },
    {
     "data": {
      "application/vnd.jupyter.widget-view+json": {
       "model_id": "4c84e183ebc941be9ccc39e041750cd6",
       "version_major": 2,
       "version_minor": 0
      },
      "text/plain": [
       "HTMLNotifier()"
      ]
     },
     "metadata": {},
     "output_type": "display_data"
    },
    {
     "data": {
      "application/vnd.jupyter.widget-view+json": {
       "model_id": "e9de5fa143d94fab9e6eab6a46409cb9",
       "version_major": 2,
       "version_minor": 0
      },
      "text/plain": [
       "TransientProgressBar(value=0.0)"
      ]
     },
     "metadata": {},
     "output_type": "display_data"
    },
    {
     "data": {
      "application/vnd.jupyter.widget-view+json": {
       "model_id": "76fc4e1d7fe24a42b528775f27797756",
       "version_major": 2,
       "version_minor": 0
      },
      "text/plain": [
       "InstancesProgress()"
      ]
     },
     "metadata": {},
     "output_type": "display_data"
    },
    {
     "data": {
      "application/vnd.jupyter.widget-view+json": {
       "model_id": "55025c44b41e42d5a80fc125ce3d8e4a",
       "version_major": 2,
       "version_minor": 0
      },
      "text/plain": [
       "HTMLNotifier()"
      ]
     },
     "metadata": {},
     "output_type": "display_data"
    },
    {
     "data": {
      "application/vnd.jupyter.widget-view+json": {
       "model_id": "3125a4b826b2463fbc847f2dc394a6f5",
       "version_major": 2,
       "version_minor": 0
      },
      "text/plain": [
       "TransientProgressBar(value=0.0)"
      ]
     },
     "metadata": {},
     "output_type": "display_data"
    },
    {
     "data": {
      "application/vnd.jupyter.widget-view+json": {
       "model_id": "267be30f79f243b2abdee20cc6f93ac2",
       "version_major": 2,
       "version_minor": 0
      },
      "text/plain": [
       "InstancesProgress()"
      ]
     },
     "metadata": {},
     "output_type": "display_data"
    },
    {
     "data": {
      "application/vnd.jupyter.widget-view+json": {
       "model_id": "b61a4fbfdd5549ebb545bfe3f5979254",
       "version_major": 2,
       "version_minor": 0
      },
      "text/plain": [
       "HTMLNotifier()"
      ]
     },
     "metadata": {},
     "output_type": "display_data"
    },
    {
     "data": {
      "application/vnd.jupyter.widget-view+json": {
       "model_id": "7258d20959da4c088e3fd25706d0951b",
       "version_major": 2,
       "version_minor": 0
      },
      "text/plain": [
       "TransientProgressBar(value=0.0)"
      ]
     },
     "metadata": {},
     "output_type": "display_data"
    },
    {
     "data": {
      "application/vnd.jupyter.widget-view+json": {
       "model_id": "66a1a147fe2e4b2b82236fd288cff0ff",
       "version_major": 2,
       "version_minor": 0
      },
      "text/plain": [
       "InstancesProgress()"
      ]
     },
     "metadata": {},
     "output_type": "display_data"
    },
    {
     "data": {
      "application/vnd.jupyter.widget-view+json": {
       "model_id": "6921df27eb434f6e8c4605962586c941",
       "version_major": 2,
       "version_minor": 0
      },
      "text/plain": [
       "HTMLNotifier()"
      ]
     },
     "metadata": {},
     "output_type": "display_data"
    },
    {
     "data": {
      "application/vnd.jupyter.widget-view+json": {
       "model_id": "019c65eec25040ce8adf29e2704d21b9",
       "version_major": 2,
       "version_minor": 0
      },
      "text/plain": [
       "TransientProgressBar(value=0.0)"
      ]
     },
     "metadata": {},
     "output_type": "display_data"
    },
    {
     "data": {
      "application/vnd.jupyter.widget-view+json": {
       "model_id": "3bc8503ca27a4c3892dab9f3c81dddc2",
       "version_major": 2,
       "version_minor": 0
      },
      "text/plain": [
       "InstancesProgress()"
      ]
     },
     "metadata": {},
     "output_type": "display_data"
    },
    {
     "data": {
      "application/vnd.jupyter.widget-view+json": {
       "model_id": "fbc3c9a548104f598308d4971f038c12",
       "version_major": 2,
       "version_minor": 0
      },
      "text/plain": [
       "HTMLNotifier()"
      ]
     },
     "metadata": {},
     "output_type": "display_data"
    },
    {
     "data": {
      "application/vnd.jupyter.widget-view+json": {
       "model_id": "7b3b7bea4c8041dbbd0adf0004d5e0c6",
       "version_major": 2,
       "version_minor": 0
      },
      "text/plain": [
       "TransientProgressBar(value=0.0)"
      ]
     },
     "metadata": {},
     "output_type": "display_data"
    },
    {
     "data": {
      "application/vnd.jupyter.widget-view+json": {
       "model_id": "4b34acacdf9d49baaa29c5630aacb58b",
       "version_major": 2,
       "version_minor": 0
      },
      "text/plain": [
       "InstancesProgress()"
      ]
     },
     "metadata": {},
     "output_type": "display_data"
    },
    {
     "data": {
      "application/vnd.jupyter.widget-view+json": {
       "model_id": "f9ecede6531c428f88ea269bbcfae8fd",
       "version_major": 2,
       "version_minor": 0
      },
      "text/plain": [
       "HTMLNotifier()"
      ]
     },
     "metadata": {},
     "output_type": "display_data"
    },
    {
     "data": {
      "application/vnd.jupyter.widget-view+json": {
       "model_id": "33b662fc3f0e4e429775ec9971bddc93",
       "version_major": 2,
       "version_minor": 0
      },
      "text/plain": [
       "TransientProgressBar(value=0.0)"
      ]
     },
     "metadata": {},
     "output_type": "display_data"
    },
    {
     "data": {
      "application/vnd.jupyter.widget-view+json": {
       "model_id": "fe2639fc459e4e08ab98ec2cd19b1acf",
       "version_major": 2,
       "version_minor": 0
      },
      "text/plain": [
       "InstancesProgress()"
      ]
     },
     "metadata": {},
     "output_type": "display_data"
    },
    {
     "data": {
      "application/vnd.jupyter.widget-view+json": {
       "model_id": "f91d6ca4150c4dc7bec8390abc3e480c",
       "version_major": 2,
       "version_minor": 0
      },
      "text/plain": [
       "HTMLNotifier()"
      ]
     },
     "metadata": {},
     "output_type": "display_data"
    },
    {
     "data": {
      "application/vnd.jupyter.widget-view+json": {
       "model_id": "c402c10a58d749abadd97b482fe47dfa",
       "version_major": 2,
       "version_minor": 0
      },
      "text/plain": [
       "TransientProgressBar(value=0.0)"
      ]
     },
     "metadata": {},
     "output_type": "display_data"
    },
    {
     "data": {
      "application/vnd.jupyter.widget-view+json": {
       "model_id": "71b09a53d6084f62a8d5d7e6d8334aef",
       "version_major": 2,
       "version_minor": 0
      },
      "text/plain": [
       "InstancesProgress()"
      ]
     },
     "metadata": {},
     "output_type": "display_data"
    },
    {
     "data": {
      "application/vnd.jupyter.widget-view+json": {
       "model_id": "64763ef7bf8143de953ee9fb92159f74",
       "version_major": 2,
       "version_minor": 0
      },
      "text/plain": [
       "HTMLNotifier()"
      ]
     },
     "metadata": {},
     "output_type": "display_data"
    }
   ],
   "source": [
    "mgg_credit = DataFrame(o.get_table('pg_mongo_credit')).to_pandas()\n",
    "mgg_loan = DataFrame(o.get_table('pg_dwd_mongo_loan')).to_pandas()\n",
    "mgg_credit_loaned = DataFrame(o.get_table('pg_dwd_mongo_credit_loaned')).to_pandas()\n",
    "mgg_process = DataFrame(o.get_table('pg_dwd_mongo_process')).to_pandas()\n",
    "\n",
    "mss_loan = DataFrame(o.get_table('pg_dwd_mars_loan')).to_pandas()\n",
    "mss_device = DataFrame(o.get_table('pg_dwd_mars_device')).to_pandas()\n",
    "mss_loan_meta = DataFrame(o.get_table('pg_dwd_mars_loan_meta')).to_pandas()\n",
    "mss_wy = DataFrame(o.get_table('pg_dwd_mars_wy_event')).to_pandas()\n",
    "mss_refund = DataFrame(o.get_table('pg_dwd_mars_hapay_refund_task')).to_pandas()"
   ]
  },
  {
   "cell_type": "code",
   "execution_count": 119,
   "metadata": {},
   "outputs": [
    {
     "data": {
      "application/vnd.jupyter.widget-view+json": {
       "model_id": "336719577ebb425db642ad2998a4ebb5",
       "version_major": 2,
       "version_minor": 0
      },
      "text/plain": [
       "TransientProgressBar(value=0.0)"
      ]
     },
     "metadata": {},
     "output_type": "display_data"
    },
    {
     "data": {
      "application/vnd.jupyter.widget-view+json": {
       "model_id": "acebe196b0324c418b0e599d0d74c072",
       "version_major": 2,
       "version_minor": 0
      },
      "text/plain": [
       "InstancesProgress()"
      ]
     },
     "metadata": {},
     "output_type": "display_data"
    },
    {
     "data": {
      "application/vnd.jupyter.widget-view+json": {
       "model_id": "c3cfc8405108417b9945417e08f2c546",
       "version_major": 2,
       "version_minor": 0
      },
      "text/plain": [
       "HTMLNotifier()"
      ]
     },
     "metadata": {},
     "output_type": "display_data"
    },
    {
     "data": {
      "text/html": [
       "<div>\n",
       "<style scoped>\n",
       "    .dataframe tbody tr th:only-of-type {\n",
       "        vertical-align: middle;\n",
       "    }\n",
       "\n",
       "    .dataframe tbody tr th {\n",
       "        vertical-align: top;\n",
       "    }\n",
       "\n",
       "    .dataframe thead th {\n",
       "        text-align: right;\n",
       "    }\n",
       "</style>\n",
       "<table border=\"1\" class=\"dataframe\">\n",
       "  <thead>\n",
       "    <tr style=\"text-align: right;\">\n",
       "      <th></th>\n",
       "      <th>refid</th>\n",
       "      <th>status</th>\n",
       "      <th>fundtime</th>\n",
       "    </tr>\n",
       "  </thead>\n",
       "  <tbody>\n",
       "    <tr>\n",
       "      <th>272</th>\n",
       "      <td>Sj6C24_CNHSEnHl</td>\n",
       "      <td>Funded</td>\n",
       "      <td>2020-06-18 13:27:08</td>\n",
       "    </tr>\n",
       "    <tr>\n",
       "      <th>282</th>\n",
       "      <td>Vecpon_CNjCOwMm</td>\n",
       "      <td>Funded</td>\n",
       "      <td>2020-06-18 22:01:39</td>\n",
       "    </tr>\n",
       "    <tr>\n",
       "      <th>288</th>\n",
       "      <td>NM6yeT_CNpKRZdP</td>\n",
       "      <td>Funded</td>\n",
       "      <td>2020-06-19 18:34:03</td>\n",
       "    </tr>\n",
       "    <tr>\n",
       "      <th>289</th>\n",
       "      <td>iHXjKz_CNtrNEVR</td>\n",
       "      <td>Funded</td>\n",
       "      <td>2020-06-19 19:00:37</td>\n",
       "    </tr>\n",
       "    <tr>\n",
       "      <th>291</th>\n",
       "      <td>za8uSl_CNJYcchg</td>\n",
       "      <td>Funded</td>\n",
       "      <td>2020-06-19 21:47:14</td>\n",
       "    </tr>\n",
       "    <tr>\n",
       "      <th>...</th>\n",
       "      <td>...</td>\n",
       "      <td>...</td>\n",
       "      <td>...</td>\n",
       "    </tr>\n",
       "    <tr>\n",
       "      <th>688</th>\n",
       "      <td>7y2pmu_CNCPANbd</td>\n",
       "      <td>Funded</td>\n",
       "      <td>2020-07-09 19:08:21</td>\n",
       "    </tr>\n",
       "    <tr>\n",
       "      <th>689</th>\n",
       "      <td>4aM3BC_CNZgowk6</td>\n",
       "      <td>Funded</td>\n",
       "      <td>2020-07-09 19:10:51</td>\n",
       "    </tr>\n",
       "    <tr>\n",
       "      <th>690</th>\n",
       "      <td>AGeVs0_CNQzC4X8</td>\n",
       "      <td>Funded</td>\n",
       "      <td>2020-07-09 19:12:06</td>\n",
       "    </tr>\n",
       "    <tr>\n",
       "      <th>696</th>\n",
       "      <td>qe2sXA_CNJAlpT2</td>\n",
       "      <td>Funded</td>\n",
       "      <td>2020-07-10 12:20:55</td>\n",
       "    </tr>\n",
       "    <tr>\n",
       "      <th>697</th>\n",
       "      <td>Kyycyc_CN09b389</td>\n",
       "      <td>Funded</td>\n",
       "      <td>2020-07-10 15:52:51</td>\n",
       "    </tr>\n",
       "  </tbody>\n",
       "</table>\n",
       "<p>219 rows × 3 columns</p>\n",
       "</div>"
      ],
      "text/plain": [
       "               refid  status             fundtime\n",
       "272  Sj6C24_CNHSEnHl  Funded  2020-06-18 13:27:08\n",
       "282  Vecpon_CNjCOwMm  Funded  2020-06-18 22:01:39\n",
       "288  NM6yeT_CNpKRZdP  Funded  2020-06-19 18:34:03\n",
       "289  iHXjKz_CNtrNEVR  Funded  2020-06-19 19:00:37\n",
       "291  za8uSl_CNJYcchg  Funded  2020-06-19 21:47:14\n",
       "..               ...     ...                  ...\n",
       "688  7y2pmu_CNCPANbd  Funded  2020-07-09 19:08:21\n",
       "689  4aM3BC_CNZgowk6  Funded  2020-07-09 19:10:51\n",
       "690  AGeVs0_CNQzC4X8  Funded  2020-07-09 19:12:06\n",
       "696  qe2sXA_CNJAlpT2  Funded  2020-07-10 12:20:55\n",
       "697  Kyycyc_CN09b389  Funded  2020-07-10 15:52:51\n",
       "\n",
       "[219 rows x 3 columns]"
      ]
     },
     "execution_count": 119,
     "metadata": {},
     "output_type": "execute_result"
    }
   ],
   "source": [
    "mss_loan = DataFrame(o.get_table('pg_dwd_mars_loan')).to_pandas()\n",
    "ms_loan2 = mss_loan[['refid', 'status', 'fundtime']].drop_duplicates()\n",
    "ms_loan2[(ms_loan2.status.isin(['Funded', 'PaidOff']))&(ms_loan2.fundtime.between('2020-06-18 00:00:00', '2020-07-16 00:00:00'))]"
   ]
  },
  {
   "cell_type": "code",
   "execution_count": null,
   "metadata": {},
   "outputs": [],
   "source": [
    "# 检查1： marsLoan表在618-716之间funed,paidoff共219笔"
   ]
  },
  {
   "cell_type": "code",
   "execution_count": 120,
   "metadata": {},
   "outputs": [],
   "source": [
    "# MARs\n",
    "#------------------------------------------------------------------------------------------------------------------------------------------------------\n",
    "\n",
    "## 1. meta表处理; [loanid, 品牌, 件数, 总价， 描述];\n",
    "ms_loan_meta2 = mss_loan_meta[['loanrefid', 'brandid', 'storeid', 'storename', 'goodstotalnum', 'goodsprice', 'orderdesc']]\n",
    "ms_loan_meta2 = ms_loan_meta2[~ms_loan_meta2.brandid.isin(['prodDemoBrand', None])]\n",
    "\n",
    "## 2. mars_loan表处理;  [状态, 放款时间];\n",
    "ms_loan2 = mss_loan[['refid', 'status', 'fundtime']]\n",
    "mongo_loan2 = mgg_loan[['credit_id', 'loan_id']].drop_duplicates()\n",
    "ms_loan2 = ms_loan2[ms_loan2.refid.isin(mongo_loan2.loan_id)] # 以mongo_loan为准；\n",
    "# ms_loan2 = ms_loan2[ms_loan2.status.isin(['Funded', 'PaidOff'])]\n",
    "# ms_loan2 = ms_loan2[~ms_loan2.status.isin(['Canceled', 'Refund'])]\n",
    "\n",
    "# 3. wy表 [credit_id, loan_id];\n",
    "ms_wy2 = mss_wy[['userrefid', 'loanrefid', 'eventid']]\n",
    "ms_wy2 = ms_wy2[ms_wy2.eventid.isin(['70'])] \n",
    "\n",
    "# 4. device;\n",
    "ms_device2 = mss_device[['userrefid', 'channel']]\n",
    "\n",
    "# 5. 汇总\n",
    "sale_df = ms_loan2.merge(ms_loan_meta2, \n",
    "                         how='left', \n",
    "                         left_on='refid', \n",
    "                         right_on='loanrefid').merge(ms_wy2,how='left').merge(ms_device2,how='left')\n",
    "sale = sale_df\n",
    "# sale = sale_df[sale_df.status.isin(['Funded', 'PaidOff'])]\n",
    "\n",
    "\n",
    "# Mongo\n",
    "#------------------------------------------------------------------------------------------------------------------------------------------------------\n",
    "## 1. mongo_loan;\n",
    "mg_loan2 = mgg_loan[['credit_id', 'loan_id']].drop_duplicates()\n",
    "\n",
    "## 2. mg_credit;\n",
    "usr_df = mgg_credit[['name', 'mobile', 'gender', 'idcard_no', 'credit_id', 'credit_time', 'update_time','gps_city','amount','guarantor_name','guarantor_mobile']]\n",
    "\n",
    "## 3. process 表; \n",
    "loan_ids_in_mp = mgg_process[(mgg_process.var_name=='事件类型') & (mgg_process.var_value=='53')]._id.tolist()\n",
    "mg_process2 = mgg_process[mgg_process._id.isin(loan_ids_in_mp)]\n",
    "credit_process_df = mg_process2.pivot(index='credit_id', columns='var_name', values=['var_value'])\n",
    "credit_process_df.columns = [i[1] for i in credit_process_df.columns]\n",
    "credit_process_df = credit_process_df.reset_index()\n",
    "credit_process_df2 = credit_process_df[['credit_id', '申请人手机号', '申请人手机号所属城市','申请人身份证城市', '申请人年龄','营业员ID', \n",
    " '信用分', '通用模型分', '通用模型&信用分二维分层', '推荐人欺诈分', '担保人手机号',\n",
    " '信用卡还款金额', '申请人1年内公务舱飞行次数', '申请人1年内头等舱飞行次数', '申请人1年内经济舱飞行次数', '申请人EZA INMIX会员最近3个月消费金额',\n",
    "       '申请人EZA INMIX会员最近3个月退货金额', '申请人EZA RE-BLUE会员最近3个月消费金额',\n",
    "       '申请人EZA RE-BLUE会员最近3个月退货金额', '申请人INMIX会员最近6个月消费金额',\n",
    "       '申请人INMIX会员最近6个月退货金额', '申请人INMIX会员等级', '申请人INMIX入会天数', '申请人RE-BLUE会员等级',\n",
    "       '申请人RE-BLUE入会天数', '申请人Re-BLUE会员最近6个月消费金额', '申请人Re-BLUE会员最近6个月退货金额',\n",
    "       '申请人借记卡360天交易金额', '申请人借记卡360天信用卡还款', '申请人借记卡360天消费金额', '申请人在INMIX最近1年累计消费金额',\n",
    "       '申请人在INMIX最近1年累计退货金额','申请人在Re-BLUE最近1年累计消费金额', '申请人在Re-BLUE最近1年累计退货金额',]]\n",
    "credit_process_df2 = credit_process_df2.reset_index()\n",
    "\n",
    "## 4. credit_loaned\n",
    "tie_df = mgg_credit_loaned.pivot_table(index='credit_id', columns=['var_name'], values=['var_value'], aggfunc=max)\n",
    "tie_df.columns = [i[1] for i in tie_df.columns]\n",
    "tie_df2 = tie_df[['申请人12个月内乘坐高端席别比例超过70%', '申请人1年内公务舱飞行次数', '申请人1年内头等舱飞行次数',\n",
    "       '申请人1年内经济舱飞行次数', '申请人GDC历史乘车次数8+次', '申请人信用卡360天消费金额', '申请人信用卡360天还款金额',\n",
    "       '申请人借记卡360天交易金额', '申请人借记卡360天信用卡还款', '申请人借记卡360天消费金额',\n",
    "       '申请人手机号作为申请人存在当前逾期的个数', '申请人是否有3次+高端商旅席别记录', '申请人近3月乘车5+次']]\n",
    "tie_df2 = tie_df2.reset_index()\n",
    "\n",
    "## 5. 汇总\n",
    "user = usr_df.merge(credit_process_df2, how='left').merge(tie_df2, how='left')\n",
    "\n",
    "# final\n",
    "#------------------------------------------------------------------------------------------------------------------------------------------------------\n",
    "final = sale.merge(mg_loan2, how='left', left_on='loanrefid', right_on='loan_id').merge(user, how='outer', left_on='credit_id', right_on='credit_id')\n",
    "# fff = final[(final.brandid=='Re-BLUE')]\n",
    "fff = final[(final.brandid=='INMIX')]\n"
   ]
  },
  {
   "cell_type": "code",
   "execution_count": 121,
   "metadata": {},
   "outputs": [],
   "source": [
    "# f1 = final[final.brandid.isin(['Re-BLUE', 'INMIX'])]"
   ]
  },
  {
   "cell_type": "code",
   "execution_count": 122,
   "metadata": {},
   "outputs": [
    {
     "data": {
      "text/plain": [
       "Funded      147\n",
       "Refund       81\n",
       "Canceled     66\n",
       "PaidOff      10\n",
       "Name: status, dtype: int64"
      ]
     },
     "execution_count": 122,
     "metadata": {},
     "output_type": "execute_result"
    }
   ],
   "source": [
    "f1.status.value_counts()"
   ]
  },
  {
   "cell_type": "code",
   "execution_count": 123,
   "metadata": {},
   "outputs": [
    {
     "data": {
      "text/plain": [
       "(161, 66)"
      ]
     },
     "execution_count": 123,
     "metadata": {},
     "output_type": "execute_result"
    }
   ],
   "source": [
    "final[final.status.isin(['Funded', 'PaidOff'])].shape"
   ]
  },
  {
   "cell_type": "code",
   "execution_count": 124,
   "metadata": {},
   "outputs": [],
   "source": [
    "from colormap import rgb2hex, hex2rgb\n",
    "COLORS = {}\n",
    "COLORS['green'] = rgb2hex(211, 230, 196)\n",
    "COLORS['blue'] = rgb2hex(203, 216, 239)\n",
    "COLORS['yellow'] = rgb2hex(255, 248, 230)\n",
    "COLORS['red'] = rgb2hex(254, 173, 169)\n",
    "COLORS['black'] = rgb2hex(133, 143, 160)\n",
    "\n",
    "def prepare_day_format(df):\n",
    "    days=pd.to_datetime(pd.Series(df.index),format='%Y-%m-%d')\n",
    "    week = '第'+days.dt.weekofyear.map(str)+'周'\n",
    "    day_name = days.dt.month.map(str)+'月'+days.dt.day.map(str) + '日'\n",
    "    df['new_index'] = day_name.tolist()\n",
    "    df = df.sort_index().set_index('new_index')\n",
    "    return df\n",
    "\n",
    "\n",
    "def df2charts(df, excel_pth, sheetname, color_list, chart_type, index_name, gridline_type, format_list, header_rownum=1, workbook=None,worksheet=None, add_chart=True, add_chart_style='new'):\n",
    "    assert df.shape[1] == len(color_list) == len(format_list), [df.columns,color_list, format_list]\n",
    "    # 数据写进去\n",
    "    if not workbook:\n",
    "        workbook = xlsxwriter.Workbook(excel_pth)\n",
    "    format_list = [workbook.add_format({'num_format': i}) for i in format_list]\n",
    "#     format1 = workbook.add_format({'num_format': '#,##0.00'})\n",
    "#     format2 = workbook.add_format({'num_format': '0.0%'})\n",
    "    if not worksheet:\n",
    "        worksheet = workbook.add_worksheet(name=sheetname)\n",
    "    bold = workbook.add_format({'bold': 1})\n",
    "    headings = [index_name] + list(df.columns)\n",
    "    worksheet.write_row('A{}'.format(header_rownum), headings, bold)\n",
    "    worksheet.write_column('A{}'.format(header_rownum+1), df.index.values)\n",
    "    tmp = ['B{}'.format(header_rownum+1), \n",
    "           'C{}'.format(header_rownum+1),\n",
    "           'D{}'.format(header_rownum+1),\n",
    "           'E{}'.format(header_rownum+1), \n",
    "           'F{}'.format(header_rownum+1), \n",
    "           'G{}'.format(header_rownum+1),\n",
    "           'H{}'.format(header_rownum+1),\n",
    "           'I{}'.format(header_rownum+1)]\n",
    "    for idx, _ in enumerate(df.columns):\n",
    "        worksheet.write_column(tmp[idx], df.iloc[:,idx].values, cell_format=format_list[idx])\n",
    "    if add_chart:\n",
    "        # 每一列创建一个新图表写进去,这样一整个df可以对应多个charts\n",
    "        if add_chart_style == 'new':\n",
    "            print('一个df多个chart')\n",
    "            for i in range(df.shape[1]):\n",
    "                col_num = i+1\n",
    "                chart1 = workbook.add_chart({'type': chart_type})\n",
    "                chart1.add_series({\n",
    "                                    'name':       [sheetname, 0, col_num],\n",
    "                                    'categories': [sheetname, 1, 0, df.shape[0], 0],\n",
    "                                    'values':     [sheetname, 1, col_num, df.shape[0], col_num],\n",
    "                                    'fill':        {'color': COLORS[color_list[i]]},\n",
    "                })\n",
    "                chart1.set_style(3)\n",
    "                chart1.set_legend({'position':'none'})\n",
    "                if gridline_type:\n",
    "                    chart1.set_y_axis({'major_gridlines': {'visible': True, 'dash_type': gridline_type}})\n",
    "                else:\n",
    "                    chart1.set_y_axis({'major_gridlines': {'visible': False}})\n",
    "                worksheet.insert_chart('G{}'.format(col_num), chart1, {'x_offset': 25, 'y_offset': 10})\n",
    "        # 一整个df只有一个堆叠chart;\n",
    "        else:\n",
    "            print('一个df一个chart')\n",
    "            chart1 = workbook.add_chart({'type': chart_type})\n",
    "            for i in range(df.shape[1]):\n",
    "                col_num = i+1\n",
    "                chart1.add_series({\n",
    "                                    'name':       [sheetname, 0, col_num],\n",
    "                                    'categories': [sheetname, 1, 0, df.shape[0], 0],\n",
    "                                    'values':     [sheetname, 1, col_num, df.shape[0], col_num],\n",
    "                                    'fill':        {'color': COLORS[color_list[i]]},\n",
    "                })\n",
    "            chart1.set_style(3)\n",
    "            chart1.set_legend({'position':'none'})\n",
    "            if gridline_type:\n",
    "                chart1.set_y_axis({'major_gridlines': {'visible': True, 'dash_type': gridline_type}})\n",
    "            else:\n",
    "                chart1.set_y_axis({'major_gridlines': {'visible': False}})\n",
    "            worksheet.insert_chart('G{}'.format(col_num), chart1, {'x_offset': 25, 'y_offset': 10})\n",
    "        # 关闭文件\n",
    "    return workbook, worksheet\n",
    "\n",
    "def apply_week(row):\n",
    "    if row in ['2020-06-18','2020-06-19','2020-06-20','2020-06-21','2020-06-22','2020-06-23','2020-06-24']:\n",
    "        return '第一周'\n",
    "    elif row in ['2020-06-25','2020-06-26','2020-06-27','2020-06-28','2020-06-29','2020-06-30','2020-07-01']:\n",
    "        return '第二周'\n",
    "    elif row in ['2020-07-02','2020-07-03','2020-07-04','2020-07-05','2020-07-06','2020-07-07','2020-07-08']:\n",
    "        return '第三周'\n",
    "    elif row in ['2020-07-09','2020-07-10','2020-07-11','2020-07-12','2020-07-13','2020-07-14','2020-07-15']:\n",
    "        return '第四周'\n",
    "    else:\n",
    "        print(row)\n",
    "        raise Exception('date not allowed!')"
   ]
  },
  {
   "cell_type": "code",
   "execution_count": 125,
   "metadata": {},
   "outputs": [],
   "source": [
    "from colormap import rgb2hex, hex2rgb\n",
    "COLORS = {}\n",
    "COLORS['green'] = rgb2hex(211, 230, 196)\n",
    "COLORS['blue'] = rgb2hex(203, 216, 239)\n",
    "COLORS['yellow'] = rgb2hex(255, 248, 230)\n",
    "COLORS['red'] = rgb2hex(254, 173, 169)\n",
    "COLORS['black'] = rgb2hex(133, 143, 160)\n",
    "\n",
    "PARAS = {\n",
    "    'excel_pth':'/Users/cashbus/Desktop/西瓜买单月报_Inmix.xlsx',\n",
    "    'store_excel_pth':'/Users/cashbus/Desktop/西瓜买单月报_Inmix-分门店数据.xlsx'\n",
    "}"
   ]
  },
  {
   "cell_type": "markdown",
   "metadata": {},
   "source": [
    "### 1. 每天交易额，每天单数，每天单均价；"
   ]
  },
  {
   "cell_type": "code",
   "execution_count": 126,
   "metadata": {},
   "outputs": [
    {
     "name": "stdout",
     "output_type": "stream",
     "text": [
      "一个df多个chart\n"
     ]
    }
   ],
   "source": [
    "# 1. 每天交易额，每天单数，每天单均价;\n",
    "fff = fff[~fff.status.isin(['Canceled', 'Refund'])] \n",
    "fff['fund_dt'] = fff.fundtime.astype(str).apply(lambda x: x[:10])\n",
    "fff = fff[fff.fund_dt>='2020-06-18']\n",
    "tmp1 = fff[['loanrefid', 'goodsprice', 'idcard_no', 'name', 'gender', 'storename', 'status', 'fund_dt', '申请人年龄', '申请人INMIX入会天数']].copy().fillna(-111).astype({'goodsprice':'float64',\n",
    "                                                                                            '申请人INMIX入会天数':'int',\n",
    "                                                                                            '申请人年龄':'int'})\n",
    "tmp1 = tmp1.drop_duplicates()\n",
    "tmp1['num_orders']= 1\n",
    "# days=pd.to_datetime(pd.Series(fff.fund_dt),format='%Y-%m-%d')\n",
    "# week = '第'+days.dt.weekofyear.map(str)+'周'\n",
    "# day_name = days.dt.month.map(str)+'月'+days.dt.day.map(str) + '日'\n",
    "tmp1['week'] = fff.fund_dt.apply(lambda x: apply_week(x))\n",
    "tmp1['fund_dt2'] = day_name\n",
    "res1 = tmp1.pivot_table(index='fund_dt', values=['goodsprice','num_orders'], aggfunc=sum)\n",
    "res1['mean'] = res1.goodsprice/res1.num_orders\n",
    "res1.columns = ['金额', '单数', '每单金额']\n",
    "\n",
    "wb, _ = df2charts(prepare_day_format(res1), \n",
    "               PARAS['excel_pth'], \n",
    "               '日数据',\n",
    "               ['green', 'blue', 'yellow'],\n",
    "               chart_type = 'area',\n",
    "               index_name = '日期',\n",
    "               gridline_type = 'dash',\n",
    "               format_list=['#,##0.00', '0', '#,##0.00'])"
   ]
  },
  {
   "cell_type": "code",
   "execution_count": 127,
   "metadata": {},
   "outputs": [
    {
     "name": "stdout",
     "output_type": "stream",
     "text": [
      "5\n",
      "6991.0\n",
      "1398.2\n",
      "3\n"
     ]
    }
   ],
   "source": [
    "a = tmp1.loanrefid.nunique()\n",
    "\n",
    "b = tmp1.goodsprice.sum()\n",
    "\n",
    "c = tmp1.goodsprice.sum()/tmp1.loanrefid.nunique()\n",
    "\n",
    "d = tmp1[tmp1['申请人INMIX入会天数']<=0].idcard_no.nunique()\n",
    "print('{}\\n{}\\n{}\\n{}'.format(a,b,c,d))"
   ]
  },
  {
   "cell_type": "code",
   "execution_count": null,
   "metadata": {},
   "outputs": [],
   "source": []
  },
  {
   "cell_type": "markdown",
   "metadata": {},
   "source": [
    "## 2. 每周交易额，每天单数，每天单均;"
   ]
  },
  {
   "cell_type": "code",
   "execution_count": 65,
   "metadata": {},
   "outputs": [],
   "source": [
    "# 2. 每周交易额，每天单数，每天单均;\n",
    "res2 = tmp1.pivot_table(index='week', values=['goodsprice','num_orders'], aggfunc=sum)\n",
    "res2['mean'] = res2.goodsprice/res2.num_orders\n",
    "res2.columns = ['金额', '笔数', '每单金额']\n",
    "res2.index = [i[0] + str(idx+1) + i[-1] for idx, i in enumerate(res2.index)]"
   ]
  },
  {
   "cell_type": "code",
   "execution_count": 66,
   "metadata": {},
   "outputs": [
    {
     "name": "stdout",
     "output_type": "stream",
     "text": [
      "一个df多个chart\n"
     ]
    }
   ],
   "source": [
    "wb, _ = df2charts(res2, \n",
    "               PARAS['excel_pth'], \n",
    "               '周数据', \n",
    "               ['red', 'red', 'red'],\n",
    "               chart_type = 'column',\n",
    "               index_name = '日期',\n",
    "               gridline_type = None,\n",
    "               format_list=['#,##0.00', '0', '#,##0.00'],\n",
    "               workbook = wb)"
   ]
  },
  {
   "cell_type": "markdown",
   "metadata": {},
   "source": [
    "### 3. '申请人RE-BLUE入会天数' 老会员，性别，年龄；"
   ]
  },
  {
   "cell_type": "code",
   "execution_count": 67,
   "metadata": {},
   "outputs": [
    {
     "name": "stdout",
     "output_type": "stream",
     "text": [
      "一个df多个chart\n"
     ]
    }
   ],
   "source": [
    "# 3. '申请人RE-BLUE入会天数' 老会员，性别，年龄；\n",
    "tmp1['is_old'] = tmp1['申请人INMIX入会天数']>0\n",
    "res3 = tmp1[['idcard_no', 'name', 'is_old', 'gender', '申请人年龄']].drop_duplicates()\n",
    "old_res = res3.is_old.value_counts()\n",
    "gender_res = res3.gender.value_counts()\n",
    "res3 = pd.cut(res3['申请人年龄'], \n",
    "              bins=[0, 20, 30, 40, 50, 200], \n",
    "              labels=['20岁以下','21~30岁', '31~40岁', '41~50岁', '50岁以上']).value_counts()\n",
    "res3 = res3.sort_index()\n",
    "res3 = pd.DataFrame(res3)\n",
    "\n",
    "wb, _ = df2charts(res3, \n",
    "               PARAS['excel_pth'], \n",
    "               '年龄分布', \n",
    "               ['red'],\n",
    "               chart_type = 'column',\n",
    "               index_name = '年龄',\n",
    "               gridline_type = None,\n",
    "               format_list=['0'],\n",
    "               workbook = wb)"
   ]
  },
  {
   "cell_type": "code",
   "execution_count": 68,
   "metadata": {},
   "outputs": [
    {
     "name": "stdout",
     "output_type": "stream",
     "text": [
      "一个df一个chart\n"
     ]
    }
   ],
   "source": [
    "old_df = pd.DataFrame(old_res)\n",
    "old_df.columns = ['人次']\n",
    "old_df.index = old_df.index.map({False:'新顾客', True:'老顾客'})\n",
    "wb, _ = df2charts(old_df, \n",
    "                PARAS['excel_pth'], \n",
    "               '顾客结构-饼图', \n",
    "               ['red'],\n",
    "               chart_type = 'pie',\n",
    "               index_name = '人次',\n",
    "               add_chart_style='hh',\n",
    "               gridline_type = None,\n",
    "               format_list=['0'],\n",
    "               workbook = wb)"
   ]
  },
  {
   "cell_type": "code",
   "execution_count": 69,
   "metadata": {},
   "outputs": [
    {
     "name": "stdout",
     "output_type": "stream",
     "text": [
      "一个df一个chart\n"
     ]
    }
   ],
   "source": [
    "gender_df = pd.DataFrame(gender_res)\n",
    "gender_df.columns = ['人次']\n",
    "gender_df.loc[1] = 0\n",
    "gender_df.index = gender_df.index.map({'0':'女', 1:'男'})\n",
    "\n",
    "wb, _ = df2charts(gender_df, \n",
    "               PARAS['excel_pth'], \n",
    "               '顾客性别-饼图', \n",
    "               ['red'],\n",
    "               chart_type = 'pie',\n",
    "               add_chart_style='hh',\n",
    "               index_name = '性别',\n",
    "               gridline_type = None,\n",
    "               format_list=['0'],              \n",
    "               workbook = wb)"
   ]
  },
  {
   "cell_type": "markdown",
   "metadata": {},
   "source": [
    "### 4. 金额分布"
   ]
  },
  {
   "cell_type": "code",
   "execution_count": 70,
   "metadata": {},
   "outputs": [],
   "source": [
    "# 4. 金额分布\n",
    "res4 = tmp1[['idcard_no', 'name', 'goodsprice']]\n",
    "res4 = res4.pivot_table(index='idcard_no', values='goodsprice', aggfunc='sum')\n",
    "res4 = pd.cut(res4.goodsprice, \n",
    "              bins=[0, 1000, 2000, 3000, 4000, 5000, 6000, 7000, 8000, 9000, 1000000],\n",
    "              labels=['￥0-1000', '￥1000-2000', '￥2000-3000', '￥3000-4000', '￥4000-5000', \n",
    "                      '￥5000-6000', '￥6000-7000', '￥7000-8000', '￥8000-9000', '￥9000以上']).value_counts()\n",
    "res4 = res4.sort_index()\n",
    "res4 = pd.DataFrame(res4)\n",
    "res4.columns = ['人次']"
   ]
  },
  {
   "cell_type": "code",
   "execution_count": 71,
   "metadata": {},
   "outputs": [
    {
     "name": "stdout",
     "output_type": "stream",
     "text": [
      "一个df多个chart\n"
     ]
    }
   ],
   "source": [
    "wb, _ = df2charts(res4, \n",
    "               PARAS['excel_pth'], \n",
    "               '消费区间', \n",
    "               ['red'],\n",
    "               chart_type = 'column',\n",
    "               index_name = '价格',\n",
    "               gridline_type = None,\n",
    "               format_list=['0'],               \n",
    "               workbook = wb)"
   ]
  },
  {
   "cell_type": "markdown",
   "metadata": {},
   "source": [
    "### 5. 新老顾客分析"
   ]
  },
  {
   "cell_type": "code",
   "execution_count": 72,
   "metadata": {},
   "outputs": [],
   "source": [
    "# 5. 新老顾客分析\n",
    "# 总金额\n",
    "res5 = tmp1.pivot_table(index='is_old', values=['goodsprice', 'num_orders'], aggfunc=sum)\n",
    "res5['goodsprice_ratio'] = res5.goodsprice/res5.goodsprice.sum()\n",
    "res5['meanprice'] = res5.goodsprice/res5.num_orders\n",
    "res5.index = res5.index.map({False:'新会员', True:'老会员'})\n",
    "res5 = res5[['goodsprice_ratio', 'meanprice']]\n",
    "res5.columns = ['消费金额占比', '笔均金额']"
   ]
  },
  {
   "cell_type": "code",
   "execution_count": 73,
   "metadata": {},
   "outputs": [
    {
     "name": "stdout",
     "output_type": "stream",
     "text": [
      "一个df多个chart\n"
     ]
    }
   ],
   "source": [
    "wb, _ = df2charts(res5, \n",
    "               PARAS['excel_pth'], \n",
    "               '新老顾客', \n",
    "               ['red','black'],\n",
    "               chart_type = 'column',\n",
    "               index_name = '新老会员',\n",
    "               gridline_type = None,\n",
    "               format_list=['0.0%', '#,##0.00'],               \n",
    "               workbook = wb)"
   ]
  },
  {
   "cell_type": "markdown",
   "metadata": {},
   "source": [
    "### 6. 消费区间"
   ]
  },
  {
   "cell_type": "code",
   "execution_count": 74,
   "metadata": {},
   "outputs": [],
   "source": [
    "# 6. 消费区间\n",
    "res6 = tmp1[['goodsprice', 'is_old', 'num_orders']]\n",
    "olds = res6[res6.is_old==True]\n",
    "new = res6[res6.is_old==False]\n",
    "new_res = pd.cut(new.goodsprice, \n",
    "                 bins=[0, 1000, 2000, 3000, 4000, 5000, 6000, 7000, 8000, 9000, 1000000],\n",
    "                 labels=['￥0-1000', '￥1000-2000', '￥2000-3000', '￥3000-4000', '￥4000-5000', \n",
    "                      '￥5000-6000', '￥6000-7000', '￥7000-8000', '￥8000-9000', '￥9000以上']).value_counts()\n",
    "old_res = pd.cut(olds.goodsprice, \n",
    "                 bins=[0, 1000, 2000, 3000, 4000, 5000, 6000, 7000, 8000, 9000, 1000000],\n",
    "                 labels=['￥0-1000', '￥1000-2000', '￥2000-3000', '￥3000-4000', '￥4000-5000', \n",
    "                      '￥5000-6000', '￥6000-7000', '￥7000-8000', '￥8000-9000', '￥9000以上']).value_counts()\n",
    "res6 = pd.DataFrame(columns=['新顾客人次','老顾客人次'])\n",
    "res6['新顾客人次'] = new_res\n",
    "res6['老顾客人次'] = old_res\n",
    "res6 = res6.sort_index()"
   ]
  },
  {
   "cell_type": "code",
   "execution_count": 75,
   "metadata": {},
   "outputs": [
    {
     "name": "stdout",
     "output_type": "stream",
     "text": [
      "一个df一个chart\n"
     ]
    }
   ],
   "source": [
    "wb, _ = df2charts(res6, \n",
    "               PARAS['excel_pth'], \n",
    "               '新老顾客-消费区间', \n",
    "               ['red','black'],\n",
    "               chart_type = 'column',\n",
    "               index_name = '价格',\n",
    "               gridline_type = None,\n",
    "               format_list=['0', '0'],   \n",
    "               add_chart_style='hh',\n",
    "               workbook = wb)"
   ]
  },
  {
   "cell_type": "markdown",
   "metadata": {},
   "source": [
    "### 7. 门店 金额，单数，单价"
   ]
  },
  {
   "cell_type": "code",
   "execution_count": 76,
   "metadata": {},
   "outputs": [],
   "source": [
    "# 7. 门店 金额，单数，单价\n",
    "res7 = tmp1[['goodsprice', 'storename', 'num_orders', 'fund_dt']]\n",
    "res7 = res7.pivot_table(index='storename', values=['goodsprice', 'num_orders'], aggfunc=sum)\n",
    "res7['meanprice'] = res7.goodsprice/res7.num_orders\n",
    "res7.columns = ['交易金额', '交易单量', '单价']\n",
    "res7 = res7.sort_values('交易金额', ascending=False)"
   ]
  },
  {
   "cell_type": "code",
   "execution_count": 77,
   "metadata": {},
   "outputs": [
    {
     "name": "stdout",
     "output_type": "stream",
     "text": [
      "一个df多个chart\n"
     ]
    }
   ],
   "source": [
    "wb, _ = df2charts(res7, \n",
    "               PARAS['excel_pth'], \n",
    "               '门店汇总', \n",
    "               ['red','red','red'],\n",
    "               chart_type = 'bar',\n",
    "               index_name = '门店',\n",
    "               gridline_type = None,\n",
    "               format_list=['#,##0.00', '0', '#,##0.00'],\n",
    "               add_chart_style='new',\n",
    "               workbook = wb)"
   ]
  },
  {
   "cell_type": "code",
   "execution_count": 78,
   "metadata": {},
   "outputs": [],
   "source": [
    "wb.close()"
   ]
  },
  {
   "cell_type": "markdown",
   "metadata": {},
   "source": [
    "### 8. 分门店数据"
   ]
  },
  {
   "cell_type": "code",
   "execution_count": 86,
   "metadata": {},
   "outputs": [],
   "source": [
    "# 8. 分门店数据\n",
    "res8 = tmp1[['idcard_no', 'status', 'goodsprice', 'storename', 'num_orders', 'week']].drop_duplicates()\n",
    "#每一周数据都要有;\n",
    "res8.index = range(len(res8))\n",
    "for st in res8.storename.unique():\n",
    "    for wk in ['第一周', '第二周', '第三周', '第四周']:\n",
    "#     for wk in res8.week.unique():\n",
    "        tmp = res8[(res8.storename==st) & (res8.week==wk)]\n",
    "        if tmp.empty:\n",
    "            new_record = {'idcard_no':'0000',\n",
    "                          'status':'Funded',\n",
    "                          'goodsprice':0,\n",
    "                          'storename':st,\n",
    "                          'num_orders':0,\n",
    "                          'week':wk\n",
    "                         }\n",
    "            res8 = res8.append(new_record, ignore_index=True)\n",
    "\n",
    "            \n",
    "res8_1 = res8.pivot_table(index=['storename', 'week'], values=['goodsprice', 'num_orders'], aggfunc='sum')\n",
    "res8_2 = res8.pivot_table(index=['storename'], values=['goodsprice', 'num_orders'], aggfunc='sum')\n",
    "res8_2['mean'] = res8_2.goodsprice/res8_2.num_orders"
   ]
  },
  {
   "cell_type": "code",
   "execution_count": 87,
   "metadata": {},
   "outputs": [
    {
     "name": "stdout",
     "output_type": "stream",
     "text": [
      "INMIX_合生汇新店 (4, 1) (1, 3)\n",
      "一个df多个chart\n",
      "INMIX__INMIX_成都龙湖天街 (4, 1) (1, 3)\n",
      "一个df多个chart\n"
     ]
    }
   ],
   "source": [
    "for idx, st in enumerate(res8.storename.unique()):\n",
    "    tmp_df = res8_1.loc[st].sort_index()\n",
    "    tmp_df = tmp_df[['goodsprice']]\n",
    "    smy_df = pd.DataFrame(res8_2.loc[st]).T\n",
    "    print(st, tmp_df.shape, smy_df.shape)\n",
    "    if idx==0:\n",
    "        wb, ws = df2charts(tmp_df, \n",
    "                       PARAS['store_excel_pth'], \n",
    "                       st, \n",
    "                       ['red'],\n",
    "                       chart_type = 'column',\n",
    "                       index_name = '日期',\n",
    "                       gridline_type = None,\n",
    "                       format_list=['#,##0.00'])\n",
    "        \n",
    "        wb, _ = df2charts(smy_df, \n",
    "                       PARAS['store_excel_pth'], \n",
    "                       st, \n",
    "                       ['red', 'red', 'red'],\n",
    "                       chart_type = 'column',\n",
    "                       index_name = '店名',\n",
    "                       gridline_type = None,\n",
    "                       header_rownum = 9,\n",
    "                       add_chart=False,\n",
    "                       format_list=['#,##0.00', '0', '#,##0.00'],\n",
    "                       workbook=wb,\n",
    "                       worksheet=ws)\n",
    "    else:\n",
    "        wb, ws = df2charts(tmp_df, \n",
    "                       PARAS['store_excel_pth'], \n",
    "                       st, \n",
    "                       ['red'],\n",
    "                       chart_type = 'column',\n",
    "                       index_name = '日期',\n",
    "                       gridline_type = None,\n",
    "                       format_list=['#,##0.00'],\n",
    "                       workbook=wb)\n",
    "        \n",
    "        wb, _ = df2charts(smy_df, \n",
    "                       PARAS['store_excel_pth'], \n",
    "                       st, \n",
    "                       ['red', 'red', 'red'],\n",
    "                       chart_type = 'column',\n",
    "                       index_name = '店名',\n",
    "                       gridline_type = None,\n",
    "                       header_rownum = 9,\n",
    "                       add_chart=False,\n",
    "                       format_list=['#,##0.00', '0', '#,##0.00'],\n",
    "                       workbook=wb,\n",
    "                       worksheet=ws)\n",
    "wb.close()"
   ]
  },
  {
   "cell_type": "code",
   "execution_count": null,
   "metadata": {},
   "outputs": [],
   "source": []
  },
  {
   "cell_type": "code",
   "execution_count": null,
   "metadata": {},
   "outputs": [],
   "source": []
  }
 ],
 "metadata": {
  "kernelspec": {
   "display_name": "Python 3.7.6 64-bit",
   "language": "python",
   "name": "python37664bit31218c15791f476da74d0ae0366fb2f7"
  },
  "language_info": {
   "codemirror_mode": {
    "name": "ipython",
    "version": 3
   },
   "file_extension": ".py",
   "mimetype": "text/x-python",
   "name": "python",
   "nbconvert_exporter": "python",
   "pygments_lexer": "ipython3",
   "version": "3.7.6"
  }
 },
 "nbformat": 4,
 "nbformat_minor": 4
}
